{
 "cells": [
  {
   "cell_type": "markdown",
   "metadata": {
    "toc": true
   },
   "source": [
    "<h1>Содержание<span class=\"tocSkip\"></span></h1>\n",
    "<div class=\"toc\"><ul class=\"toc-item\"><li><span><a href=\"#Изучение-данных-из-файла\" data-toc-modified-id=\"Изучение-данных-из-файла-1\"><span class=\"toc-item-num\">1&nbsp;&nbsp;</span>Изучение данных из файла</a></span><ul class=\"toc-item\"><li><span><a href=\"#Вывод\" data-toc-modified-id=\"Вывод-1.1\"><span class=\"toc-item-num\">1.1&nbsp;&nbsp;</span>Вывод</a></span></li></ul></li><li><span><a href=\"#Предобработка-данных\" data-toc-modified-id=\"Предобработка-данных-2\"><span class=\"toc-item-num\">2&nbsp;&nbsp;</span>Предобработка данных</a></span></li><li><span><a href=\"#Расчёты-и-добавление-результатов-в-таблицу\" data-toc-modified-id=\"Расчёты-и-добавление-результатов-в-таблицу-3\"><span class=\"toc-item-num\">3&nbsp;&nbsp;</span>Расчёты и добавление результатов в таблицу</a></span></li><li><span><a href=\"#Исследовательский-анализ-данных\" data-toc-modified-id=\"Исследовательский-анализ-данных-4\"><span class=\"toc-item-num\">4&nbsp;&nbsp;</span>Исследовательский анализ данных</a></span></li><li><span><a href=\"#Общий-вывод\" data-toc-modified-id=\"Общий-вывод-5\"><span class=\"toc-item-num\">5&nbsp;&nbsp;</span>Общий вывод</a></span></li><li><span><a href=\"#Чек-лист-готовности-проекта\" data-toc-modified-id=\"Чек-лист-готовности-проекта-6\"><span class=\"toc-item-num\">6&nbsp;&nbsp;</span>Чек-лист готовности проекта</a></span></li></ul></div>"
   ]
  },
  {
   "cell_type": "markdown",
   "metadata": {},
   "source": [
    "# Исследование объявлений о продаже квартир\n",
    "\n",
    "В вашем распоряжении данные сервиса Яндекc Недвижимость — архив объявлений о продаже квартир в Санкт-Петербурге и соседних населённых пунктах за несколько лет. Нужно научиться определять рыночную стоимость объектов недвижимости. Ваша задача — установить параметры. Это позволит построить автоматизированную систему: она отследит аномалии и мошенническую деятельность. \n",
    "\n",
    "По каждой квартире на продажу доступны два вида данных. Первые вписаны пользователем, вторые получены автоматически на основе картографических данных. Например, расстояние до центра, аэропорта, ближайшего парка и водоёма. "
   ]
  },
  {
   "cell_type": "markdown",
   "metadata": {},
   "source": [
    "## Изучение данных из файла"
   ]
  },
  {
   "cell_type": "markdown",
   "metadata": {},
   "source": [
    "<div class=\"alert alert-info\">\n",
    " <font color='Blue'>\n",
    "     <b>Открываем файл с данными и изучаем общую информацию, используем параметр 'sep' для корректного отображения данных</font>\n",
    " "
   ]
  },
  {
   "cell_type": "code",
   "execution_count": 1,
   "metadata": {},
   "outputs": [
    {
     "name": "stdout",
     "output_type": "stream",
     "text": [
      "<class 'pandas.core.frame.DataFrame'>\n",
      "RangeIndex: 23699 entries, 0 to 23698\n",
      "Data columns (total 22 columns):\n",
      " #   Column                Non-Null Count  Dtype  \n",
      "---  ------                --------------  -----  \n",
      " 0   total_images          23699 non-null  int64  \n",
      " 1   last_price            23699 non-null  float64\n",
      " 2   total_area            23699 non-null  float64\n",
      " 3   first_day_exposition  23699 non-null  object \n",
      " 4   rooms                 23699 non-null  int64  \n",
      " 5   ceiling_height        14504 non-null  float64\n",
      " 6   floors_total          23613 non-null  float64\n",
      " 7   living_area           21796 non-null  float64\n",
      " 8   floor                 23699 non-null  int64  \n",
      " 9   is_apartment          2775 non-null   object \n",
      " 10  studio                23699 non-null  bool   \n",
      " 11  open_plan             23699 non-null  bool   \n",
      " 12  kitchen_area          21421 non-null  float64\n",
      " 13  balcony               12180 non-null  float64\n",
      " 14  locality_name         23650 non-null  object \n",
      " 15  airports_nearest      18157 non-null  float64\n",
      " 16  cityCenters_nearest   18180 non-null  float64\n",
      " 17  parks_around3000      18181 non-null  float64\n",
      " 18  parks_nearest         8079 non-null   float64\n",
      " 19  ponds_around3000      18181 non-null  float64\n",
      " 20  ponds_nearest         9110 non-null   float64\n",
      " 21  days_exposition       20518 non-null  float64\n",
      "dtypes: bool(2), float64(14), int64(3), object(3)\n",
      "memory usage: 3.7+ MB\n"
     ]
    }
   ],
   "source": [
    "import pandas as pd\n",
    "#df=pd.read_csv(r\"C:\\Users\\Asus\\Desktop\\Data Science\\Third Project\\real_estate_data.csv\",sep='\\t')\n",
    "df=pd.read_csv('/datasets/real_estate_data.csv',sep='\\t')\n",
    "df.info()\n"
   ]
  },
  {
   "cell_type": "markdown",
   "metadata": {},
   "source": [
    "<div class=\"alert alert-info\">\n",
    " <font color='Blue'>\n",
    "     <b>Посчитаем долю пропущенных данных в столбцах, путем суммирования количества заполненных ячеек и делением его на все ячейки"
   ]
  },
  {
   "cell_type": "code",
   "execution_count": 2,
   "metadata": {},
   "outputs": [
    {
     "name": "stdout",
     "output_type": "stream",
     "text": [
      "Доля пропущенных в столбце ceiling_height: 38.80%\n",
      "Доля пропущенных в столбце floors_total: 0.36%\n",
      "Доля пропущенных в столбце living_area: 8.03%\n",
      "Доля пропущенных в столбце is_apartment: 88.29%\n",
      "Доля пропущенных в столбце kitchen_area: 9.61%\n",
      "Доля пропущенных в столбце balcony: 48.61%\n",
      "Доля пропущенных в столбце locality_name: 0.21%\n",
      "Доля пропущенных в столбце airports_nearest: 23.38%\n",
      "Доля пропущенных в столбце cityCenters_nearest: 23.29%\n",
      "Доля пропущенных в столбце parks_around3000: 23.28%\n",
      "Доля пропущенных в столбце parks_nearest: 65.91%\n",
      "Доля пропущенных в столбце ponds_around3000: 23.28%\n",
      "Доля пропущенных в столбце ponds_nearest: 61.56%\n",
      "Доля пропущенных в столбце days_exposition: 13.42%\n"
     ]
    }
   ],
   "source": [
    "share_of_missing_in_ceiling_height = df['ceiling_height']. isnull(). sum() / len(df)\n",
    "print('Доля пропущенных в столбце ceiling_height:',\"{:.2%}\".format(share_of_missing_in_ceiling_height))\n",
    "share_of_missing_in_floors_total = df['floors_total']. isnull(). sum() / len(df)\n",
    "print('Доля пропущенных в столбце floors_total:',\"{:.2%}\".format(share_of_missing_in_floors_total))\n",
    "share_of_missing_in_living_area = df['living_area']. isnull(). sum() / len(df)\n",
    "print('Доля пропущенных в столбце living_area:',\"{:.2%}\".format(share_of_missing_in_living_area))\n",
    "share_of_missing_in_is_apartment = df['is_apartment']. isnull(). sum() / len(df)\n",
    "print('Доля пропущенных в столбце is_apartment:',\"{:.2%}\".format(share_of_missing_in_is_apartment))\n",
    "share_of_missing_in_kitchen_area = df['kitchen_area']. isnull(). sum() / len(df)\n",
    "print('Доля пропущенных в столбце kitchen_area:',\"{:.2%}\".format(share_of_missing_in_kitchen_area))\n",
    "share_of_missing_in_balcony = df['balcony']. isnull(). sum() / len(df)\n",
    "print('Доля пропущенных в столбце balcony:',\"{:.2%}\".format(share_of_missing_in_balcony))\n",
    "share_of_missing_in_locality_name = df['locality_name']. isnull(). sum() / len(df)\n",
    "print('Доля пропущенных в столбце locality_name:',\"{:.2%}\".format(share_of_missing_in_locality_name))\n",
    "share_of_missing_in_airports_nearest = df['airports_nearest']. isnull(). sum() / len(df)\n",
    "print('Доля пропущенных в столбце airports_nearest:',\"{:.2%}\".format(share_of_missing_in_airports_nearest))\n",
    "share_of_missing_in_cityCenters_nearest = df['cityCenters_nearest']. isnull(). sum() / len(df)\n",
    "print('Доля пропущенных в столбце cityCenters_nearest:',\"{:.2%}\".format(share_of_missing_in_cityCenters_nearest))\n",
    "share_of_missing_in_parks_around3000 = df['parks_around3000']. isnull(). sum() / len(df)\n",
    "print('Доля пропущенных в столбце parks_around3000:',\"{:.2%}\".format(share_of_missing_in_parks_around3000))\n",
    "share_of_missing_in_parks_nearest = df['parks_nearest']. isnull(). sum() / len(df)\n",
    "print('Доля пропущенных в столбце parks_nearest:',\"{:.2%}\".format(share_of_missing_in_parks_nearest))\n",
    "share_of_missing_in_ponds_around3000 = df['ponds_around3000']. isnull(). sum() / len(df)\n",
    "print('Доля пропущенных в столбце ponds_around3000:',\"{:.2%}\".format(share_of_missing_in_ponds_around3000))\n",
    "share_of_missing_in_ponds_nearest = df['ponds_nearest']. isnull(). sum() / len(df)\n",
    "print('Доля пропущенных в столбце ponds_nearest:',\"{:.2%}\".format(share_of_missing_in_ponds_nearest))\n",
    "share_of_missing_in_days_exposition = df['days_exposition']. isnull(). sum() / len(df)\n",
    "print('Доля пропущенных в столбце days_exposition:',\"{:.2%}\".format(share_of_missing_in_days_exposition))"
   ]
  },
  {
   "cell_type": "markdown",
   "metadata": {},
   "source": [
    "### Вывод"
   ]
  },
  {
   "cell_type": "markdown",
   "metadata": {},
   "source": [
    "<div class=\"alert alert-info\">\n",
    " <font color='Blue'>\n",
    "     <b>Выявили пропущенные значения:</b>\n",
    "        <p>\n",
    "- ceiling_height (высота потолков (м)) -  можно заполнить медианным или средним значениями\n",
    "            <p>\n",
    "- floors_total (всего этажей в доме) - пропущенных данных мало 0,36% возможно заполнить средним значением\n",
    "                <p>\n",
    "- living_area (жилая площадь в квадратных метрах (м²)) - можно заполнить медианным или средним значениями\n",
    "                    <p>\n",
    "- is_apartment (апартаменты (булев тип)) - можно предположить что пропущенные данные у квартир не являющиеся апартаментами\n",
    "                        <p>\n",
    "- kitchen_area (площадь кухни в квадратных метрах (м²)) - можно заполнить медианным или средним значениями\n",
    "                            <p>\n",
    "- balcony (число балконов) - можно предположить что пропущенные данные указывают на отсутствие балкона\n",
    "                                <p>\n",
    "- locality_name (название населённого пункта) - пропущенных данных мало 0,21%, возможно оставить пустыми\n",
    "                                    <p>\n",
    "- airports_nearest (расстояние до ближайшего аэропорта в метрах (м)) - можно заполнить медианным или средним значениями\n",
    "                                        <p>\n",
    "- cityCenters_nearest (расстояние до центра города (м)) - можно заполнить медианным или средним значениями\n",
    "                                            <p>\n",
    "- parks_around3000 (число водоёмов в радиусе 3 км) - можно предположить что пропущенные данные указывают на отсутствие парков\n",
    "                                                <p>\n",
    "- parks_nearest (расстояние до ближайшего парка (м)) - оставляем пустыми так как нет подходящего значения на замену\n",
    "                                                    <p>\n",
    "- ponds_around3000 (число водоёмов в радиусе 3 км) - можно предположить что пропущенные данные указывают на отсутствие водоёмов\n",
    "                                                        <p>\n",
    "- ponds_nearest (расстояние до ближайшего водоёма (м)) - оставляем пустыми так как нет подходящего значения на замену\n",
    "                                                            <p>\n",
    "- days_exposition (сколько дней было размещено объявление (от публикации до снятия)) - можно заполнить медианным или средним значениями\n"
   ]
  },
  {
   "cell_type": "markdown",
   "metadata": {},
   "source": [
    "## Предобработка данных"
   ]
  },
  {
   "cell_type": "markdown",
   "metadata": {},
   "source": [
    "<div class=\"alert alert-info\">\n",
    "<font color='Blue'>\n",
    "    <b>Чтобы понять причину возникновения пропусков данных, выведем только те строки и столбцы, в которых они есть:</font>"
   ]
  },
  {
   "cell_type": "code",
   "execution_count": 3,
   "metadata": {},
   "outputs": [
    {
     "data": {
      "text/html": [
       "<div>\n",
       "<style scoped>\n",
       "    .dataframe tbody tr th:only-of-type {\n",
       "        vertical-align: middle;\n",
       "    }\n",
       "\n",
       "    .dataframe tbody tr th {\n",
       "        vertical-align: top;\n",
       "    }\n",
       "\n",
       "    .dataframe thead th {\n",
       "        text-align: right;\n",
       "    }\n",
       "</style>\n",
       "<table border=\"1\" class=\"dataframe\">\n",
       "  <thead>\n",
       "    <tr style=\"text-align: right;\">\n",
       "      <th></th>\n",
       "      <th>total_images</th>\n",
       "      <th>last_price</th>\n",
       "      <th>total_area</th>\n",
       "      <th>first_day_exposition</th>\n",
       "      <th>rooms</th>\n",
       "      <th>ceiling_height</th>\n",
       "      <th>floors_total</th>\n",
       "      <th>living_area</th>\n",
       "      <th>floor</th>\n",
       "      <th>is_apartment</th>\n",
       "      <th>...</th>\n",
       "      <th>kitchen_area</th>\n",
       "      <th>balcony</th>\n",
       "      <th>locality_name</th>\n",
       "      <th>airports_nearest</th>\n",
       "      <th>cityCenters_nearest</th>\n",
       "      <th>parks_around3000</th>\n",
       "      <th>parks_nearest</th>\n",
       "      <th>ponds_around3000</th>\n",
       "      <th>ponds_nearest</th>\n",
       "      <th>days_exposition</th>\n",
       "    </tr>\n",
       "  </thead>\n",
       "  <tbody>\n",
       "    <tr>\n",
       "      <th>0</th>\n",
       "      <td>20</td>\n",
       "      <td>13000000.0</td>\n",
       "      <td>108.00</td>\n",
       "      <td>2019-03-07T00:00:00</td>\n",
       "      <td>3</td>\n",
       "      <td>2.70</td>\n",
       "      <td>16.0</td>\n",
       "      <td>51.0</td>\n",
       "      <td>8</td>\n",
       "      <td>NaN</td>\n",
       "      <td>...</td>\n",
       "      <td>25.00</td>\n",
       "      <td>NaN</td>\n",
       "      <td>Санкт-Петербург</td>\n",
       "      <td>18863.0</td>\n",
       "      <td>16028.0</td>\n",
       "      <td>1.0</td>\n",
       "      <td>482.0</td>\n",
       "      <td>2.0</td>\n",
       "      <td>755.0</td>\n",
       "      <td>NaN</td>\n",
       "    </tr>\n",
       "    <tr>\n",
       "      <th>1</th>\n",
       "      <td>7</td>\n",
       "      <td>3350000.0</td>\n",
       "      <td>40.40</td>\n",
       "      <td>2018-12-04T00:00:00</td>\n",
       "      <td>1</td>\n",
       "      <td>NaN</td>\n",
       "      <td>11.0</td>\n",
       "      <td>18.6</td>\n",
       "      <td>1</td>\n",
       "      <td>NaN</td>\n",
       "      <td>...</td>\n",
       "      <td>11.00</td>\n",
       "      <td>2.0</td>\n",
       "      <td>посёлок Шушары</td>\n",
       "      <td>12817.0</td>\n",
       "      <td>18603.0</td>\n",
       "      <td>0.0</td>\n",
       "      <td>NaN</td>\n",
       "      <td>0.0</td>\n",
       "      <td>NaN</td>\n",
       "      <td>81.0</td>\n",
       "    </tr>\n",
       "    <tr>\n",
       "      <th>2</th>\n",
       "      <td>10</td>\n",
       "      <td>5196000.0</td>\n",
       "      <td>56.00</td>\n",
       "      <td>2015-08-20T00:00:00</td>\n",
       "      <td>2</td>\n",
       "      <td>NaN</td>\n",
       "      <td>5.0</td>\n",
       "      <td>34.3</td>\n",
       "      <td>4</td>\n",
       "      <td>NaN</td>\n",
       "      <td>...</td>\n",
       "      <td>8.30</td>\n",
       "      <td>0.0</td>\n",
       "      <td>Санкт-Петербург</td>\n",
       "      <td>21741.0</td>\n",
       "      <td>13933.0</td>\n",
       "      <td>1.0</td>\n",
       "      <td>90.0</td>\n",
       "      <td>2.0</td>\n",
       "      <td>574.0</td>\n",
       "      <td>558.0</td>\n",
       "    </tr>\n",
       "    <tr>\n",
       "      <th>3</th>\n",
       "      <td>0</td>\n",
       "      <td>64900000.0</td>\n",
       "      <td>159.00</td>\n",
       "      <td>2015-07-24T00:00:00</td>\n",
       "      <td>3</td>\n",
       "      <td>NaN</td>\n",
       "      <td>14.0</td>\n",
       "      <td>NaN</td>\n",
       "      <td>9</td>\n",
       "      <td>NaN</td>\n",
       "      <td>...</td>\n",
       "      <td>NaN</td>\n",
       "      <td>0.0</td>\n",
       "      <td>Санкт-Петербург</td>\n",
       "      <td>28098.0</td>\n",
       "      <td>6800.0</td>\n",
       "      <td>2.0</td>\n",
       "      <td>84.0</td>\n",
       "      <td>3.0</td>\n",
       "      <td>234.0</td>\n",
       "      <td>424.0</td>\n",
       "    </tr>\n",
       "    <tr>\n",
       "      <th>4</th>\n",
       "      <td>2</td>\n",
       "      <td>10000000.0</td>\n",
       "      <td>100.00</td>\n",
       "      <td>2018-06-19T00:00:00</td>\n",
       "      <td>2</td>\n",
       "      <td>3.03</td>\n",
       "      <td>14.0</td>\n",
       "      <td>32.0</td>\n",
       "      <td>13</td>\n",
       "      <td>NaN</td>\n",
       "      <td>...</td>\n",
       "      <td>41.00</td>\n",
       "      <td>NaN</td>\n",
       "      <td>Санкт-Петербург</td>\n",
       "      <td>31856.0</td>\n",
       "      <td>8098.0</td>\n",
       "      <td>2.0</td>\n",
       "      <td>112.0</td>\n",
       "      <td>1.0</td>\n",
       "      <td>48.0</td>\n",
       "      <td>121.0</td>\n",
       "    </tr>\n",
       "    <tr>\n",
       "      <th>...</th>\n",
       "      <td>...</td>\n",
       "      <td>...</td>\n",
       "      <td>...</td>\n",
       "      <td>...</td>\n",
       "      <td>...</td>\n",
       "      <td>...</td>\n",
       "      <td>...</td>\n",
       "      <td>...</td>\n",
       "      <td>...</td>\n",
       "      <td>...</td>\n",
       "      <td>...</td>\n",
       "      <td>...</td>\n",
       "      <td>...</td>\n",
       "      <td>...</td>\n",
       "      <td>...</td>\n",
       "      <td>...</td>\n",
       "      <td>...</td>\n",
       "      <td>...</td>\n",
       "      <td>...</td>\n",
       "      <td>...</td>\n",
       "      <td>...</td>\n",
       "    </tr>\n",
       "    <tr>\n",
       "      <th>23694</th>\n",
       "      <td>9</td>\n",
       "      <td>9700000.0</td>\n",
       "      <td>133.81</td>\n",
       "      <td>2017-03-21T00:00:00</td>\n",
       "      <td>3</td>\n",
       "      <td>3.70</td>\n",
       "      <td>5.0</td>\n",
       "      <td>73.3</td>\n",
       "      <td>3</td>\n",
       "      <td>NaN</td>\n",
       "      <td>...</td>\n",
       "      <td>13.83</td>\n",
       "      <td>NaN</td>\n",
       "      <td>Санкт-Петербург</td>\n",
       "      <td>24665.0</td>\n",
       "      <td>4232.0</td>\n",
       "      <td>1.0</td>\n",
       "      <td>796.0</td>\n",
       "      <td>3.0</td>\n",
       "      <td>381.0</td>\n",
       "      <td>NaN</td>\n",
       "    </tr>\n",
       "    <tr>\n",
       "      <th>23695</th>\n",
       "      <td>14</td>\n",
       "      <td>3100000.0</td>\n",
       "      <td>59.00</td>\n",
       "      <td>2018-01-15T00:00:00</td>\n",
       "      <td>3</td>\n",
       "      <td>NaN</td>\n",
       "      <td>5.0</td>\n",
       "      <td>38.0</td>\n",
       "      <td>4</td>\n",
       "      <td>NaN</td>\n",
       "      <td>...</td>\n",
       "      <td>8.50</td>\n",
       "      <td>NaN</td>\n",
       "      <td>Тосно</td>\n",
       "      <td>NaN</td>\n",
       "      <td>NaN</td>\n",
       "      <td>NaN</td>\n",
       "      <td>NaN</td>\n",
       "      <td>NaN</td>\n",
       "      <td>NaN</td>\n",
       "      <td>45.0</td>\n",
       "    </tr>\n",
       "    <tr>\n",
       "      <th>23696</th>\n",
       "      <td>18</td>\n",
       "      <td>2500000.0</td>\n",
       "      <td>56.70</td>\n",
       "      <td>2018-02-11T00:00:00</td>\n",
       "      <td>2</td>\n",
       "      <td>NaN</td>\n",
       "      <td>3.0</td>\n",
       "      <td>29.7</td>\n",
       "      <td>1</td>\n",
       "      <td>NaN</td>\n",
       "      <td>...</td>\n",
       "      <td>NaN</td>\n",
       "      <td>NaN</td>\n",
       "      <td>село Рождествено</td>\n",
       "      <td>NaN</td>\n",
       "      <td>NaN</td>\n",
       "      <td>NaN</td>\n",
       "      <td>NaN</td>\n",
       "      <td>NaN</td>\n",
       "      <td>NaN</td>\n",
       "      <td>NaN</td>\n",
       "    </tr>\n",
       "    <tr>\n",
       "      <th>23697</th>\n",
       "      <td>13</td>\n",
       "      <td>11475000.0</td>\n",
       "      <td>76.75</td>\n",
       "      <td>2017-03-28T00:00:00</td>\n",
       "      <td>2</td>\n",
       "      <td>3.00</td>\n",
       "      <td>17.0</td>\n",
       "      <td>NaN</td>\n",
       "      <td>12</td>\n",
       "      <td>NaN</td>\n",
       "      <td>...</td>\n",
       "      <td>23.30</td>\n",
       "      <td>2.0</td>\n",
       "      <td>Санкт-Петербург</td>\n",
       "      <td>39140.0</td>\n",
       "      <td>10364.0</td>\n",
       "      <td>2.0</td>\n",
       "      <td>173.0</td>\n",
       "      <td>3.0</td>\n",
       "      <td>196.0</td>\n",
       "      <td>602.0</td>\n",
       "    </tr>\n",
       "    <tr>\n",
       "      <th>23698</th>\n",
       "      <td>4</td>\n",
       "      <td>1350000.0</td>\n",
       "      <td>32.30</td>\n",
       "      <td>2017-07-21T00:00:00</td>\n",
       "      <td>1</td>\n",
       "      <td>2.50</td>\n",
       "      <td>5.0</td>\n",
       "      <td>12.3</td>\n",
       "      <td>1</td>\n",
       "      <td>NaN</td>\n",
       "      <td>...</td>\n",
       "      <td>9.00</td>\n",
       "      <td>NaN</td>\n",
       "      <td>поселок Новый Учхоз</td>\n",
       "      <td>NaN</td>\n",
       "      <td>NaN</td>\n",
       "      <td>NaN</td>\n",
       "      <td>NaN</td>\n",
       "      <td>NaN</td>\n",
       "      <td>NaN</td>\n",
       "      <td>NaN</td>\n",
       "    </tr>\n",
       "  </tbody>\n",
       "</table>\n",
       "<p>23449 rows × 22 columns</p>\n",
       "</div>"
      ],
      "text/plain": [
       "       total_images  last_price  total_area first_day_exposition  rooms  \\\n",
       "0                20  13000000.0      108.00  2019-03-07T00:00:00      3   \n",
       "1                 7   3350000.0       40.40  2018-12-04T00:00:00      1   \n",
       "2                10   5196000.0       56.00  2015-08-20T00:00:00      2   \n",
       "3                 0  64900000.0      159.00  2015-07-24T00:00:00      3   \n",
       "4                 2  10000000.0      100.00  2018-06-19T00:00:00      2   \n",
       "...             ...         ...         ...                  ...    ...   \n",
       "23694             9   9700000.0      133.81  2017-03-21T00:00:00      3   \n",
       "23695            14   3100000.0       59.00  2018-01-15T00:00:00      3   \n",
       "23696            18   2500000.0       56.70  2018-02-11T00:00:00      2   \n",
       "23697            13  11475000.0       76.75  2017-03-28T00:00:00      2   \n",
       "23698             4   1350000.0       32.30  2017-07-21T00:00:00      1   \n",
       "\n",
       "       ceiling_height  floors_total  living_area  floor is_apartment  ...  \\\n",
       "0                2.70          16.0         51.0      8          NaN  ...   \n",
       "1                 NaN          11.0         18.6      1          NaN  ...   \n",
       "2                 NaN           5.0         34.3      4          NaN  ...   \n",
       "3                 NaN          14.0          NaN      9          NaN  ...   \n",
       "4                3.03          14.0         32.0     13          NaN  ...   \n",
       "...               ...           ...          ...    ...          ...  ...   \n",
       "23694            3.70           5.0         73.3      3          NaN  ...   \n",
       "23695             NaN           5.0         38.0      4          NaN  ...   \n",
       "23696             NaN           3.0         29.7      1          NaN  ...   \n",
       "23697            3.00          17.0          NaN     12          NaN  ...   \n",
       "23698            2.50           5.0         12.3      1          NaN  ...   \n",
       "\n",
       "       kitchen_area  balcony        locality_name  airports_nearest  \\\n",
       "0             25.00      NaN      Санкт-Петербург           18863.0   \n",
       "1             11.00      2.0       посёлок Шушары           12817.0   \n",
       "2              8.30      0.0      Санкт-Петербург           21741.0   \n",
       "3               NaN      0.0      Санкт-Петербург           28098.0   \n",
       "4             41.00      NaN      Санкт-Петербург           31856.0   \n",
       "...             ...      ...                  ...               ...   \n",
       "23694         13.83      NaN      Санкт-Петербург           24665.0   \n",
       "23695          8.50      NaN                Тосно               NaN   \n",
       "23696           NaN      NaN     село Рождествено               NaN   \n",
       "23697         23.30      2.0      Санкт-Петербург           39140.0   \n",
       "23698          9.00      NaN  поселок Новый Учхоз               NaN   \n",
       "\n",
       "      cityCenters_nearest  parks_around3000  parks_nearest  ponds_around3000  \\\n",
       "0                 16028.0               1.0          482.0               2.0   \n",
       "1                 18603.0               0.0            NaN               0.0   \n",
       "2                 13933.0               1.0           90.0               2.0   \n",
       "3                  6800.0               2.0           84.0               3.0   \n",
       "4                  8098.0               2.0          112.0               1.0   \n",
       "...                   ...               ...            ...               ...   \n",
       "23694              4232.0               1.0          796.0               3.0   \n",
       "23695                 NaN               NaN            NaN               NaN   \n",
       "23696                 NaN               NaN            NaN               NaN   \n",
       "23697             10364.0               2.0          173.0               3.0   \n",
       "23698                 NaN               NaN            NaN               NaN   \n",
       "\n",
       "       ponds_nearest  days_exposition  \n",
       "0              755.0              NaN  \n",
       "1                NaN             81.0  \n",
       "2              574.0            558.0  \n",
       "3              234.0            424.0  \n",
       "4               48.0            121.0  \n",
       "...              ...              ...  \n",
       "23694          381.0              NaN  \n",
       "23695            NaN             45.0  \n",
       "23696            NaN              NaN  \n",
       "23697          196.0            602.0  \n",
       "23698            NaN              NaN  \n",
       "\n",
       "[23449 rows x 22 columns]"
      ]
     },
     "execution_count": 3,
     "metadata": {},
     "output_type": "execute_result"
    }
   ],
   "source": [
    "df[df.isnull().any(1)]\n"
   ]
  },
  {
   "cell_type": "markdown",
   "metadata": {},
   "source": [
    "<div class=\"alert alert-info\">\n",
    "<font color='Blue'>\n",
    "    <b>Предположительно,появление пропусков данных вызвано отсутствием информации.\n",
    "        <p>\n",
    "Можем сообщить о проблеме заказчику и запросить метаданные для дальнейшего анализа</font>"
   ]
  },
  {
   "cell_type": "markdown",
   "metadata": {},
   "source": [
    "<div class=\"alert alert-info\">\n",
    "<font color='Blue'>\n",
    "    <b>Заполняю пропуски медианным значением в случае количественных переменных это лучшее решение для этой ситуации, так как медиана не подвержена выбросам.\n",
    "    </font>"
   ]
  },
  {
   "cell_type": "code",
   "execution_count": 4,
   "metadata": {
    "scrolled": true
   },
   "outputs": [
    {
     "name": "stdout",
     "output_type": "stream",
     "text": [
      "<class 'pandas.core.frame.DataFrame'>\n",
      "RangeIndex: 23699 entries, 0 to 23698\n",
      "Data columns (total 22 columns):\n",
      " #   Column                Non-Null Count  Dtype  \n",
      "---  ------                --------------  -----  \n",
      " 0   total_images          23699 non-null  int64  \n",
      " 1   last_price            23699 non-null  float64\n",
      " 2   total_area            23699 non-null  float64\n",
      " 3   first_day_exposition  23699 non-null  object \n",
      " 4   rooms                 23699 non-null  int64  \n",
      " 5   ceiling_height        23699 non-null  float64\n",
      " 6   floors_total          23699 non-null  float64\n",
      " 7   living_area           23699 non-null  float64\n",
      " 8   floor                 23699 non-null  int64  \n",
      " 9   is_apartment          23699 non-null  object \n",
      " 10  studio                23699 non-null  bool   \n",
      " 11  open_plan             23699 non-null  bool   \n",
      " 12  kitchen_area          23699 non-null  float64\n",
      " 13  balcony               23699 non-null  float64\n",
      " 14  locality_name         23650 non-null  object \n",
      " 15  airports_nearest      23699 non-null  float64\n",
      " 16  cityCenters_nearest   23699 non-null  float64\n",
      " 17  parks_around3000      23699 non-null  float64\n",
      " 18  parks_nearest         8079 non-null   float64\n",
      " 19  ponds_around3000      23699 non-null  float64\n",
      " 20  ponds_nearest         9110 non-null   float64\n",
      " 21  days_exposition       23699 non-null  float64\n",
      "dtypes: bool(2), float64(14), int64(3), object(3)\n",
      "memory usage: 3.7+ MB\n"
     ]
    },
    {
     "data": {
      "text/html": [
       "<div>\n",
       "<style scoped>\n",
       "    .dataframe tbody tr th:only-of-type {\n",
       "        vertical-align: middle;\n",
       "    }\n",
       "\n",
       "    .dataframe tbody tr th {\n",
       "        vertical-align: top;\n",
       "    }\n",
       "\n",
       "    .dataframe thead th {\n",
       "        text-align: right;\n",
       "    }\n",
       "</style>\n",
       "<table border=\"1\" class=\"dataframe\">\n",
       "  <thead>\n",
       "    <tr style=\"text-align: right;\">\n",
       "      <th></th>\n",
       "      <th>total_images</th>\n",
       "      <th>last_price</th>\n",
       "      <th>total_area</th>\n",
       "      <th>first_day_exposition</th>\n",
       "      <th>rooms</th>\n",
       "      <th>ceiling_height</th>\n",
       "      <th>floors_total</th>\n",
       "      <th>living_area</th>\n",
       "      <th>floor</th>\n",
       "      <th>is_apartment</th>\n",
       "      <th>...</th>\n",
       "      <th>kitchen_area</th>\n",
       "      <th>balcony</th>\n",
       "      <th>locality_name</th>\n",
       "      <th>airports_nearest</th>\n",
       "      <th>cityCenters_nearest</th>\n",
       "      <th>parks_around3000</th>\n",
       "      <th>parks_nearest</th>\n",
       "      <th>ponds_around3000</th>\n",
       "      <th>ponds_nearest</th>\n",
       "      <th>days_exposition</th>\n",
       "    </tr>\n",
       "  </thead>\n",
       "  <tbody>\n",
       "    <tr>\n",
       "      <th>0</th>\n",
       "      <td>20</td>\n",
       "      <td>13000000.0</td>\n",
       "      <td>108.0</td>\n",
       "      <td>2019-03-07T00:00:00</td>\n",
       "      <td>3</td>\n",
       "      <td>2.70</td>\n",
       "      <td>16.0</td>\n",
       "      <td>51.0</td>\n",
       "      <td>8</td>\n",
       "      <td>False</td>\n",
       "      <td>...</td>\n",
       "      <td>25.0</td>\n",
       "      <td>0.0</td>\n",
       "      <td>Санкт-Петербург</td>\n",
       "      <td>18863.0</td>\n",
       "      <td>16028.0</td>\n",
       "      <td>1.0</td>\n",
       "      <td>482.0</td>\n",
       "      <td>2.0</td>\n",
       "      <td>755.0</td>\n",
       "      <td>95.0</td>\n",
       "    </tr>\n",
       "    <tr>\n",
       "      <th>1</th>\n",
       "      <td>7</td>\n",
       "      <td>3350000.0</td>\n",
       "      <td>40.4</td>\n",
       "      <td>2018-12-04T00:00:00</td>\n",
       "      <td>1</td>\n",
       "      <td>2.65</td>\n",
       "      <td>11.0</td>\n",
       "      <td>18.6</td>\n",
       "      <td>1</td>\n",
       "      <td>False</td>\n",
       "      <td>...</td>\n",
       "      <td>11.0</td>\n",
       "      <td>2.0</td>\n",
       "      <td>посёлок Шушары</td>\n",
       "      <td>12817.0</td>\n",
       "      <td>18603.0</td>\n",
       "      <td>0.0</td>\n",
       "      <td>NaN</td>\n",
       "      <td>0.0</td>\n",
       "      <td>NaN</td>\n",
       "      <td>81.0</td>\n",
       "    </tr>\n",
       "    <tr>\n",
       "      <th>2</th>\n",
       "      <td>10</td>\n",
       "      <td>5196000.0</td>\n",
       "      <td>56.0</td>\n",
       "      <td>2015-08-20T00:00:00</td>\n",
       "      <td>2</td>\n",
       "      <td>2.65</td>\n",
       "      <td>5.0</td>\n",
       "      <td>34.3</td>\n",
       "      <td>4</td>\n",
       "      <td>False</td>\n",
       "      <td>...</td>\n",
       "      <td>8.3</td>\n",
       "      <td>0.0</td>\n",
       "      <td>Санкт-Петербург</td>\n",
       "      <td>21741.0</td>\n",
       "      <td>13933.0</td>\n",
       "      <td>1.0</td>\n",
       "      <td>90.0</td>\n",
       "      <td>2.0</td>\n",
       "      <td>574.0</td>\n",
       "      <td>558.0</td>\n",
       "    </tr>\n",
       "    <tr>\n",
       "      <th>3</th>\n",
       "      <td>0</td>\n",
       "      <td>64900000.0</td>\n",
       "      <td>159.0</td>\n",
       "      <td>2015-07-24T00:00:00</td>\n",
       "      <td>3</td>\n",
       "      <td>2.65</td>\n",
       "      <td>14.0</td>\n",
       "      <td>30.0</td>\n",
       "      <td>9</td>\n",
       "      <td>False</td>\n",
       "      <td>...</td>\n",
       "      <td>9.1</td>\n",
       "      <td>0.0</td>\n",
       "      <td>Санкт-Петербург</td>\n",
       "      <td>28098.0</td>\n",
       "      <td>6800.0</td>\n",
       "      <td>2.0</td>\n",
       "      <td>84.0</td>\n",
       "      <td>3.0</td>\n",
       "      <td>234.0</td>\n",
       "      <td>424.0</td>\n",
       "    </tr>\n",
       "    <tr>\n",
       "      <th>4</th>\n",
       "      <td>2</td>\n",
       "      <td>10000000.0</td>\n",
       "      <td>100.0</td>\n",
       "      <td>2018-06-19T00:00:00</td>\n",
       "      <td>2</td>\n",
       "      <td>3.03</td>\n",
       "      <td>14.0</td>\n",
       "      <td>32.0</td>\n",
       "      <td>13</td>\n",
       "      <td>False</td>\n",
       "      <td>...</td>\n",
       "      <td>41.0</td>\n",
       "      <td>0.0</td>\n",
       "      <td>Санкт-Петербург</td>\n",
       "      <td>31856.0</td>\n",
       "      <td>8098.0</td>\n",
       "      <td>2.0</td>\n",
       "      <td>112.0</td>\n",
       "      <td>1.0</td>\n",
       "      <td>48.0</td>\n",
       "      <td>121.0</td>\n",
       "    </tr>\n",
       "  </tbody>\n",
       "</table>\n",
       "<p>5 rows × 22 columns</p>\n",
       "</div>"
      ],
      "text/plain": [
       "   total_images  last_price  total_area first_day_exposition  rooms  \\\n",
       "0            20  13000000.0       108.0  2019-03-07T00:00:00      3   \n",
       "1             7   3350000.0        40.4  2018-12-04T00:00:00      1   \n",
       "2            10   5196000.0        56.0  2015-08-20T00:00:00      2   \n",
       "3             0  64900000.0       159.0  2015-07-24T00:00:00      3   \n",
       "4             2  10000000.0       100.0  2018-06-19T00:00:00      2   \n",
       "\n",
       "   ceiling_height  floors_total  living_area  floor is_apartment  ...  \\\n",
       "0            2.70          16.0         51.0      8        False  ...   \n",
       "1            2.65          11.0         18.6      1        False  ...   \n",
       "2            2.65           5.0         34.3      4        False  ...   \n",
       "3            2.65          14.0         30.0      9        False  ...   \n",
       "4            3.03          14.0         32.0     13        False  ...   \n",
       "\n",
       "   kitchen_area  balcony    locality_name  airports_nearest  \\\n",
       "0          25.0      0.0  Санкт-Петербург           18863.0   \n",
       "1          11.0      2.0   посёлок Шушары           12817.0   \n",
       "2           8.3      0.0  Санкт-Петербург           21741.0   \n",
       "3           9.1      0.0  Санкт-Петербург           28098.0   \n",
       "4          41.0      0.0  Санкт-Петербург           31856.0   \n",
       "\n",
       "  cityCenters_nearest  parks_around3000  parks_nearest  ponds_around3000  \\\n",
       "0             16028.0               1.0          482.0               2.0   \n",
       "1             18603.0               0.0            NaN               0.0   \n",
       "2             13933.0               1.0           90.0               2.0   \n",
       "3              6800.0               2.0           84.0               3.0   \n",
       "4              8098.0               2.0          112.0               1.0   \n",
       "\n",
       "   ponds_nearest  days_exposition  \n",
       "0          755.0             95.0  \n",
       "1            NaN             81.0  \n",
       "2          574.0            558.0  \n",
       "3          234.0            424.0  \n",
       "4           48.0            121.0  \n",
       "\n",
       "[5 rows x 22 columns]"
      ]
     },
     "execution_count": 4,
     "metadata": {},
     "output_type": "execute_result"
    }
   ],
   "source": [
    "#считаю медиану для столбцов и сразу заполняю пропуски в случаях количественных переменных, где это уместно\n",
    "df['ceiling_height']=df['ceiling_height'].fillna(df['ceiling_height'].median())\n",
    "df['floors_total']=df['floors_total'].fillna(df['floors_total'].median())\n",
    "df['living_area']=df['living_area'].fillna(df['living_area'].median())\n",
    "df['kitchen_area']=df['kitchen_area'].fillna(df['kitchen_area'].median())\n",
    "df['airports_nearest']=df['airports_nearest'].fillna(df['airports_nearest'].median())\n",
    "df['cityCenters_nearest']=df['cityCenters_nearest'].fillna(df['cityCenters_nearest'].median())\n",
    "df['days_exposition']=df['days_exposition'].fillna(df['days_exposition'].median())\n",
    "df['balcony']=df['balcony'].fillna(0) #меняю на 0 пропущенные данные о балконах\n",
    "df['parks_around3000']=df['parks_around3000'].fillna(0) #меняю на 0 пропущенные данные о парках\n",
    "df['ponds_around3000']=df['ponds_around3000'].fillna(0) #меняю на 0 пропущенные данные о водоёмах\n",
    "df['is_apartment']=df['is_apartment'].fillna('False') #меняю на False пропущенные данные о водоёмах\n",
    "df.info()\n",
    "df.head()"
   ]
  },
  {
   "cell_type": "code",
   "execution_count": 5,
   "metadata": {},
   "outputs": [
    {
     "name": "stdout",
     "output_type": "stream",
     "text": [
      "<class 'pandas.core.frame.DataFrame'>\n",
      "Int64Index: 22886 entries, 0 to 23698\n",
      "Data columns (total 22 columns):\n",
      " #   Column                Non-Null Count  Dtype  \n",
      "---  ------                --------------  -----  \n",
      " 0   total_images          22886 non-null  int64  \n",
      " 1   last_price            22886 non-null  float64\n",
      " 2   total_area            22886 non-null  float64\n",
      " 3   first_day_exposition  22886 non-null  object \n",
      " 4   rooms                 22886 non-null  int64  \n",
      " 5   ceiling_height        22886 non-null  float64\n",
      " 6   floors_total          22886 non-null  float64\n",
      " 7   living_area           22886 non-null  float64\n",
      " 8   floor                 22886 non-null  int64  \n",
      " 9   is_apartment          22886 non-null  object \n",
      " 10  studio                22886 non-null  bool   \n",
      " 11  open_plan             22886 non-null  bool   \n",
      " 12  kitchen_area          22886 non-null  float64\n",
      " 13  balcony               22886 non-null  float64\n",
      " 14  locality_name         22838 non-null  object \n",
      " 15  airports_nearest      22886 non-null  float64\n",
      " 16  cityCenters_nearest   22886 non-null  float64\n",
      " 17  parks_around3000      22886 non-null  float64\n",
      " 18  parks_nearest         7903 non-null   float64\n",
      " 19  ponds_around3000      22886 non-null  float64\n",
      " 20  ponds_nearest         8852 non-null   float64\n",
      " 21  days_exposition       22886 non-null  float64\n",
      "dtypes: bool(2), float64(14), int64(3), object(3)\n",
      "memory usage: 3.7+ MB\n"
     ]
    }
   ],
   "source": [
    "df=df.query('kitchen_area+living_area<total_area')\n",
    "df.info()\n",
    "    "
   ]
  },
  {
   "cell_type": "code",
   "execution_count": 6,
   "metadata": {},
   "outputs": [
    {
     "name": "stdout",
     "output_type": "stream",
     "text": [
      "<class 'pandas.core.frame.DataFrame'>\n",
      "Int64Index: 22886 entries, 0 to 23698\n",
      "Data columns (total 23 columns):\n",
      " #   Column                Non-Null Count  Dtype  \n",
      "---  ------                --------------  -----  \n",
      " 0   total_images          22886 non-null  int64  \n",
      " 1   last_price            22886 non-null  int64  \n",
      " 2   total_area            22886 non-null  float64\n",
      " 3   first_day_exposition  22886 non-null  object \n",
      " 4   rooms                 22886 non-null  int64  \n",
      " 5   ceiling_height        22886 non-null  float64\n",
      " 6   floors_total          22886 non-null  int64  \n",
      " 7   living_area           22886 non-null  float64\n",
      " 8   floor                 22886 non-null  int64  \n",
      " 9   is_apartment          22886 non-null  bool   \n",
      " 10  studio                22886 non-null  bool   \n",
      " 11  open_plan             22886 non-null  bool   \n",
      " 12  kitchen_area          22886 non-null  float64\n",
      " 13  balcony               22886 non-null  int64  \n",
      " 14  locality_name         22838 non-null  object \n",
      " 15  airports_nearest      22886 non-null  float64\n",
      " 16  cityCenters_nearest   22886 non-null  float64\n",
      " 17  parks_around3000      22886 non-null  int64  \n",
      " 18  parks_nearest         7903 non-null   float64\n",
      " 19  ponds_around3000      22886 non-null  int64  \n",
      " 20  ponds_nearest         8852 non-null   float64\n",
      " 21  days_exposition       22886 non-null  float64\n",
      " 22  days_exposition       22886 non-null  int64  \n",
      "dtypes: bool(3), float64(9), int64(9), object(2)\n",
      "memory usage: 3.7+ MB\n"
     ]
    },
    {
     "data": {
      "text/html": [
       "<div>\n",
       "<style scoped>\n",
       "    .dataframe tbody tr th:only-of-type {\n",
       "        vertical-align: middle;\n",
       "    }\n",
       "\n",
       "    .dataframe tbody tr th {\n",
       "        vertical-align: top;\n",
       "    }\n",
       "\n",
       "    .dataframe thead th {\n",
       "        text-align: right;\n",
       "    }\n",
       "</style>\n",
       "<table border=\"1\" class=\"dataframe\">\n",
       "  <thead>\n",
       "    <tr style=\"text-align: right;\">\n",
       "      <th></th>\n",
       "      <th>total_images</th>\n",
       "      <th>last_price</th>\n",
       "      <th>total_area</th>\n",
       "      <th>first_day_exposition</th>\n",
       "      <th>rooms</th>\n",
       "      <th>ceiling_height</th>\n",
       "      <th>floors_total</th>\n",
       "      <th>living_area</th>\n",
       "      <th>floor</th>\n",
       "      <th>is_apartment</th>\n",
       "      <th>...</th>\n",
       "      <th>balcony</th>\n",
       "      <th>locality_name</th>\n",
       "      <th>airports_nearest</th>\n",
       "      <th>cityCenters_nearest</th>\n",
       "      <th>parks_around3000</th>\n",
       "      <th>parks_nearest</th>\n",
       "      <th>ponds_around3000</th>\n",
       "      <th>ponds_nearest</th>\n",
       "      <th>days_exposition</th>\n",
       "      <th>days_exposition</th>\n",
       "    </tr>\n",
       "  </thead>\n",
       "  <tbody>\n",
       "    <tr>\n",
       "      <th>0</th>\n",
       "      <td>20</td>\n",
       "      <td>13000000</td>\n",
       "      <td>108.0</td>\n",
       "      <td>2019-03-07T00:00:00</td>\n",
       "      <td>3</td>\n",
       "      <td>2.70</td>\n",
       "      <td>16</td>\n",
       "      <td>51.0</td>\n",
       "      <td>8</td>\n",
       "      <td>True</td>\n",
       "      <td>...</td>\n",
       "      <td>0</td>\n",
       "      <td>Санкт-Петербург</td>\n",
       "      <td>18863.0</td>\n",
       "      <td>16028.0</td>\n",
       "      <td>1</td>\n",
       "      <td>482.0</td>\n",
       "      <td>2</td>\n",
       "      <td>755.0</td>\n",
       "      <td>95.0</td>\n",
       "      <td>95</td>\n",
       "    </tr>\n",
       "    <tr>\n",
       "      <th>1</th>\n",
       "      <td>7</td>\n",
       "      <td>3350000</td>\n",
       "      <td>40.4</td>\n",
       "      <td>2018-12-04T00:00:00</td>\n",
       "      <td>1</td>\n",
       "      <td>2.65</td>\n",
       "      <td>11</td>\n",
       "      <td>18.6</td>\n",
       "      <td>1</td>\n",
       "      <td>True</td>\n",
       "      <td>...</td>\n",
       "      <td>2</td>\n",
       "      <td>посёлок Шушары</td>\n",
       "      <td>12817.0</td>\n",
       "      <td>18603.0</td>\n",
       "      <td>0</td>\n",
       "      <td>NaN</td>\n",
       "      <td>0</td>\n",
       "      <td>NaN</td>\n",
       "      <td>81.0</td>\n",
       "      <td>81</td>\n",
       "    </tr>\n",
       "    <tr>\n",
       "      <th>2</th>\n",
       "      <td>10</td>\n",
       "      <td>5196000</td>\n",
       "      <td>56.0</td>\n",
       "      <td>2015-08-20T00:00:00</td>\n",
       "      <td>2</td>\n",
       "      <td>2.65</td>\n",
       "      <td>5</td>\n",
       "      <td>34.3</td>\n",
       "      <td>4</td>\n",
       "      <td>True</td>\n",
       "      <td>...</td>\n",
       "      <td>0</td>\n",
       "      <td>Санкт-Петербург</td>\n",
       "      <td>21741.0</td>\n",
       "      <td>13933.0</td>\n",
       "      <td>1</td>\n",
       "      <td>90.0</td>\n",
       "      <td>2</td>\n",
       "      <td>574.0</td>\n",
       "      <td>558.0</td>\n",
       "      <td>558</td>\n",
       "    </tr>\n",
       "    <tr>\n",
       "      <th>3</th>\n",
       "      <td>0</td>\n",
       "      <td>64900000</td>\n",
       "      <td>159.0</td>\n",
       "      <td>2015-07-24T00:00:00</td>\n",
       "      <td>3</td>\n",
       "      <td>2.65</td>\n",
       "      <td>14</td>\n",
       "      <td>30.0</td>\n",
       "      <td>9</td>\n",
       "      <td>True</td>\n",
       "      <td>...</td>\n",
       "      <td>0</td>\n",
       "      <td>Санкт-Петербург</td>\n",
       "      <td>28098.0</td>\n",
       "      <td>6800.0</td>\n",
       "      <td>2</td>\n",
       "      <td>84.0</td>\n",
       "      <td>3</td>\n",
       "      <td>234.0</td>\n",
       "      <td>424.0</td>\n",
       "      <td>424</td>\n",
       "    </tr>\n",
       "    <tr>\n",
       "      <th>4</th>\n",
       "      <td>2</td>\n",
       "      <td>10000000</td>\n",
       "      <td>100.0</td>\n",
       "      <td>2018-06-19T00:00:00</td>\n",
       "      <td>2</td>\n",
       "      <td>3.03</td>\n",
       "      <td>14</td>\n",
       "      <td>32.0</td>\n",
       "      <td>13</td>\n",
       "      <td>True</td>\n",
       "      <td>...</td>\n",
       "      <td>0</td>\n",
       "      <td>Санкт-Петербург</td>\n",
       "      <td>31856.0</td>\n",
       "      <td>8098.0</td>\n",
       "      <td>2</td>\n",
       "      <td>112.0</td>\n",
       "      <td>1</td>\n",
       "      <td>48.0</td>\n",
       "      <td>121.0</td>\n",
       "      <td>121</td>\n",
       "    </tr>\n",
       "  </tbody>\n",
       "</table>\n",
       "<p>5 rows × 23 columns</p>\n",
       "</div>"
      ],
      "text/plain": [
       "   total_images  last_price  total_area first_day_exposition  rooms  \\\n",
       "0            20    13000000       108.0  2019-03-07T00:00:00      3   \n",
       "1             7     3350000        40.4  2018-12-04T00:00:00      1   \n",
       "2            10     5196000        56.0  2015-08-20T00:00:00      2   \n",
       "3             0    64900000       159.0  2015-07-24T00:00:00      3   \n",
       "4             2    10000000       100.0  2018-06-19T00:00:00      2   \n",
       "\n",
       "   ceiling_height  floors_total  living_area  floor  is_apartment  ...  \\\n",
       "0            2.70            16         51.0      8          True  ...   \n",
       "1            2.65            11         18.6      1          True  ...   \n",
       "2            2.65             5         34.3      4          True  ...   \n",
       "3            2.65            14         30.0      9          True  ...   \n",
       "4            3.03            14         32.0     13          True  ...   \n",
       "\n",
       "   balcony    locality_name  airports_nearest  cityCenters_nearest  \\\n",
       "0        0  Санкт-Петербург           18863.0              16028.0   \n",
       "1        2   посёлок Шушары           12817.0              18603.0   \n",
       "2        0  Санкт-Петербург           21741.0              13933.0   \n",
       "3        0  Санкт-Петербург           28098.0               6800.0   \n",
       "4        0  Санкт-Петербург           31856.0               8098.0   \n",
       "\n",
       "  parks_around3000  parks_nearest  ponds_around3000  ponds_nearest  \\\n",
       "0                1          482.0                 2          755.0   \n",
       "1                0            NaN                 0            NaN   \n",
       "2                1           90.0                 2          574.0   \n",
       "3                2           84.0                 3          234.0   \n",
       "4                2          112.0                 1           48.0   \n",
       "\n",
       "   days_exposition  days_exposition   \n",
       "0             95.0                95  \n",
       "1             81.0                81  \n",
       "2            558.0               558  \n",
       "3            424.0               424  \n",
       "4            121.0               121  \n",
       "\n",
       "[5 rows x 23 columns]"
      ]
     },
     "execution_count": 6,
     "metadata": {},
     "output_type": "execute_result"
    }
   ],
   "source": [
    "df['last_price']=df['last_price'].astype('int')#тип int, для удобства работы \n",
    "df['is_apartment']=df['is_apartment'].astype('bool') #булевский тип, поскольку всего два значения(истина или ложь)\n",
    "df['floors_total']=df['floors_total'].astype('int') #количество - тип Int для экономии памяти и отсечения точки и нуля\n",
    "df['balcony']=df['balcony'].astype('int') #количество балконов - тип int для экономии памяти и отсечения точки и нуля\n",
    "df['parks_around3000']=df['parks_around3000'].astype('int') #количество парков в радиусе 3км - тип int для экономии памяти и отсечения точки и нуля\n",
    "df['ponds_around3000']=df['ponds_around3000'].astype('int')#количество водоемов в радиусе 3км- тип int для экономии памяти и отсечения точки и нуля\n",
    "df['days_exposition ']=df['days_exposition'].astype('int')#количество дней- тип int для экономии памяти и отсечения точки и нуля\n",
    "df.info()\n",
    "df.head()\n"
   ]
  },
  {
   "cell_type": "markdown",
   "metadata": {},
   "source": [
    "<div class=\"alert alert-info\">\n",
    "<font color='Blue'>\n",
    "    <b>Проверим столбцы на аномалии \n",
    "    </font>"
   ]
  },
  {
   "cell_type": "code",
   "execution_count": 7,
   "metadata": {},
   "outputs": [
    {
     "name": "stdout",
     "output_type": "stream",
     "text": [
      "Аномальные значения столбца total_images:\n",
      "Аномальные значения столбца last_price:\n",
      "Аномальные значения столбца total_area:\n",
      "Аномальные значения столбца rooms:\n",
      "0 0 0 0 0 0 0 0 0 0 0 0 0 0 0 0 0 0 0 0 0 0 0 0 0 0 0 0 0 0 0 0 0 0 0 0 0 0 0 0 0 0 0 0 0 0 0 0 0 0 0 0 0 0 0 0 0 0 0 0 0 0 0 0 0 0 0 0 0 0 0 "
     ]
    }
   ],
   "source": [
    "def anomaly_check(dataframe,column):\n",
    "    \n",
    "    if column=='total_images':\n",
    "            for i in dataframe[column]:\n",
    "                if i<0 or i>100:\n",
    "                    print(i,end=' ')\n",
    "    if column=='last_price':\n",
    "        for i in dataframe[column]:\n",
    "                if i<0: \n",
    "                    print(i,end=' ')\n",
    "    if column=='total_area':\n",
    "        for i in dataframe[column]:\n",
    "            if i<0 or i>300:\n",
    "                print(round(i),end=' ')\n",
    "    if column=='rooms':\n",
    "        for i in dataframe[column]:\n",
    "            if i<=0 or i>20:\n",
    "                print(i, end=' ')\n",
    "    if column=='ceiling_height':\n",
    "        for i in dataframe[column]:\n",
    "            if i<0 and i>6:\n",
    "                print(i)\n",
    "                \n",
    "print('Аномальные значения столбца total_images:')\n",
    "anomaly_check(df,'total_images')\n",
    "print('Аномальные значения столбца last_price:')\n",
    "anomaly_check(df,'last_price')\n",
    "print('Аномальные значения столбца total_area:')\n",
    "anomaly_check(df,'days_employed')\n",
    "print('Аномальные значения столбца rooms:')\n",
    "anomaly_check(df,'rooms')"
   ]
  },
  {
   "cell_type": "code",
   "execution_count": 8,
   "metadata": {},
   "outputs": [
    {
     "name": "stdout",
     "output_type": "stream",
     "text": [
      "Доля аномальных значений столбца room 0.86%\n"
     ]
    }
   ],
   "source": [
    "df['rooms'].value_counts()\n",
    "print('Доля аномальных значений столбца room',\"{:.2%}\".format(197/len(df)))"
   ]
  },
  {
   "cell_type": "code",
   "execution_count": 9,
   "metadata": {},
   "outputs": [
    {
     "data": {
      "text/html": [
       "<div>\n",
       "<style scoped>\n",
       "    .dataframe tbody tr th:only-of-type {\n",
       "        vertical-align: middle;\n",
       "    }\n",
       "\n",
       "    .dataframe tbody tr th {\n",
       "        vertical-align: top;\n",
       "    }\n",
       "\n",
       "    .dataframe thead th {\n",
       "        text-align: right;\n",
       "    }\n",
       "</style>\n",
       "<table border=\"1\" class=\"dataframe\">\n",
       "  <thead>\n",
       "    <tr style=\"text-align: right;\">\n",
       "      <th></th>\n",
       "      <th>total_images</th>\n",
       "      <th>last_price</th>\n",
       "      <th>total_area</th>\n",
       "      <th>first_day_exposition</th>\n",
       "      <th>rooms</th>\n",
       "      <th>ceiling_height</th>\n",
       "      <th>floors_total</th>\n",
       "      <th>living_area</th>\n",
       "      <th>floor</th>\n",
       "      <th>is_apartment</th>\n",
       "      <th>...</th>\n",
       "      <th>balcony</th>\n",
       "      <th>locality_name</th>\n",
       "      <th>airports_nearest</th>\n",
       "      <th>cityCenters_nearest</th>\n",
       "      <th>parks_around3000</th>\n",
       "      <th>parks_nearest</th>\n",
       "      <th>ponds_around3000</th>\n",
       "      <th>ponds_nearest</th>\n",
       "      <th>days_exposition</th>\n",
       "      <th>days_exposition</th>\n",
       "    </tr>\n",
       "  </thead>\n",
       "  <tbody>\n",
       "    <tr>\n",
       "      <th>0</th>\n",
       "      <td>20</td>\n",
       "      <td>13000000</td>\n",
       "      <td>108.0</td>\n",
       "      <td>2019-03-07T00:00:00</td>\n",
       "      <td>3</td>\n",
       "      <td>2.70</td>\n",
       "      <td>16</td>\n",
       "      <td>51.0</td>\n",
       "      <td>8</td>\n",
       "      <td>True</td>\n",
       "      <td>...</td>\n",
       "      <td>0</td>\n",
       "      <td>Санкт-Петербург</td>\n",
       "      <td>18863.0</td>\n",
       "      <td>16028.0</td>\n",
       "      <td>1</td>\n",
       "      <td>482.0</td>\n",
       "      <td>2</td>\n",
       "      <td>755.0</td>\n",
       "      <td>95.0</td>\n",
       "      <td>95</td>\n",
       "    </tr>\n",
       "    <tr>\n",
       "      <th>1</th>\n",
       "      <td>7</td>\n",
       "      <td>3350000</td>\n",
       "      <td>40.4</td>\n",
       "      <td>2018-12-04T00:00:00</td>\n",
       "      <td>1</td>\n",
       "      <td>2.65</td>\n",
       "      <td>11</td>\n",
       "      <td>18.6</td>\n",
       "      <td>1</td>\n",
       "      <td>True</td>\n",
       "      <td>...</td>\n",
       "      <td>2</td>\n",
       "      <td>посёлок Шушары</td>\n",
       "      <td>12817.0</td>\n",
       "      <td>18603.0</td>\n",
       "      <td>0</td>\n",
       "      <td>NaN</td>\n",
       "      <td>0</td>\n",
       "      <td>NaN</td>\n",
       "      <td>81.0</td>\n",
       "      <td>81</td>\n",
       "    </tr>\n",
       "    <tr>\n",
       "      <th>2</th>\n",
       "      <td>10</td>\n",
       "      <td>5196000</td>\n",
       "      <td>56.0</td>\n",
       "      <td>2015-08-20T00:00:00</td>\n",
       "      <td>2</td>\n",
       "      <td>2.65</td>\n",
       "      <td>5</td>\n",
       "      <td>34.3</td>\n",
       "      <td>4</td>\n",
       "      <td>True</td>\n",
       "      <td>...</td>\n",
       "      <td>0</td>\n",
       "      <td>Санкт-Петербург</td>\n",
       "      <td>21741.0</td>\n",
       "      <td>13933.0</td>\n",
       "      <td>1</td>\n",
       "      <td>90.0</td>\n",
       "      <td>2</td>\n",
       "      <td>574.0</td>\n",
       "      <td>558.0</td>\n",
       "      <td>558</td>\n",
       "    </tr>\n",
       "    <tr>\n",
       "      <th>3</th>\n",
       "      <td>0</td>\n",
       "      <td>64900000</td>\n",
       "      <td>159.0</td>\n",
       "      <td>2015-07-24T00:00:00</td>\n",
       "      <td>3</td>\n",
       "      <td>2.65</td>\n",
       "      <td>14</td>\n",
       "      <td>30.0</td>\n",
       "      <td>9</td>\n",
       "      <td>True</td>\n",
       "      <td>...</td>\n",
       "      <td>0</td>\n",
       "      <td>Санкт-Петербург</td>\n",
       "      <td>28098.0</td>\n",
       "      <td>6800.0</td>\n",
       "      <td>2</td>\n",
       "      <td>84.0</td>\n",
       "      <td>3</td>\n",
       "      <td>234.0</td>\n",
       "      <td>424.0</td>\n",
       "      <td>424</td>\n",
       "    </tr>\n",
       "    <tr>\n",
       "      <th>4</th>\n",
       "      <td>2</td>\n",
       "      <td>10000000</td>\n",
       "      <td>100.0</td>\n",
       "      <td>2018-06-19T00:00:00</td>\n",
       "      <td>2</td>\n",
       "      <td>3.03</td>\n",
       "      <td>14</td>\n",
       "      <td>32.0</td>\n",
       "      <td>13</td>\n",
       "      <td>True</td>\n",
       "      <td>...</td>\n",
       "      <td>0</td>\n",
       "      <td>Санкт-Петербург</td>\n",
       "      <td>31856.0</td>\n",
       "      <td>8098.0</td>\n",
       "      <td>2</td>\n",
       "      <td>112.0</td>\n",
       "      <td>1</td>\n",
       "      <td>48.0</td>\n",
       "      <td>121.0</td>\n",
       "      <td>121</td>\n",
       "    </tr>\n",
       "  </tbody>\n",
       "</table>\n",
       "<p>5 rows × 23 columns</p>\n",
       "</div>"
      ],
      "text/plain": [
       "   total_images  last_price  total_area first_day_exposition  rooms  \\\n",
       "0            20    13000000       108.0  2019-03-07T00:00:00      3   \n",
       "1             7     3350000        40.4  2018-12-04T00:00:00      1   \n",
       "2            10     5196000        56.0  2015-08-20T00:00:00      2   \n",
       "3             0    64900000       159.0  2015-07-24T00:00:00      3   \n",
       "4             2    10000000       100.0  2018-06-19T00:00:00      2   \n",
       "\n",
       "   ceiling_height  floors_total  living_area  floor  is_apartment  ...  \\\n",
       "0            2.70            16         51.0      8          True  ...   \n",
       "1            2.65            11         18.6      1          True  ...   \n",
       "2            2.65             5         34.3      4          True  ...   \n",
       "3            2.65            14         30.0      9          True  ...   \n",
       "4            3.03            14         32.0     13          True  ...   \n",
       "\n",
       "   balcony    locality_name  airports_nearest  cityCenters_nearest  \\\n",
       "0        0  Санкт-Петербург           18863.0              16028.0   \n",
       "1        2   посёлок Шушары           12817.0              18603.0   \n",
       "2        0  Санкт-Петербург           21741.0              13933.0   \n",
       "3        0  Санкт-Петербург           28098.0               6800.0   \n",
       "4        0  Санкт-Петербург           31856.0               8098.0   \n",
       "\n",
       "  parks_around3000  parks_nearest  ponds_around3000  ponds_nearest  \\\n",
       "0                1          482.0                 2          755.0   \n",
       "1                0            NaN                 0            NaN   \n",
       "2                1           90.0                 2          574.0   \n",
       "3                2           84.0                 3          234.0   \n",
       "4                2          112.0                 1           48.0   \n",
       "\n",
       "   days_exposition  days_exposition   \n",
       "0             95.0                95  \n",
       "1             81.0                81  \n",
       "2            558.0               558  \n",
       "3            424.0               424  \n",
       "4            121.0               121  \n",
       "\n",
       "[5 rows x 23 columns]"
      ]
     },
     "execution_count": 9,
     "metadata": {},
     "output_type": "execute_result"
    }
   ],
   "source": [
    "df=df.query('rooms!=0') #делаем срез, избегая все значения, где rooms=0 и перезаписываем датафрейм\n",
    "df.head()"
   ]
  },
  {
   "cell_type": "markdown",
   "metadata": {},
   "source": [
    "## Расчёты и добавление результатов в таблицу"
   ]
  },
  {
   "cell_type": "markdown",
   "metadata": {},
   "source": [
    "<div class=\"alert alert-info\">\n",
    "<font color='Blue'>\n",
    "\n",
    "   <b> Посчитаем и добавим в таблицу\n",
    "- цену квадратного метра;\n",
    "- день недели, месяц и год публикации объявления;\n",
    "- этаж квартиры; варианты — первый, последний, другой;\n",
    "- соотношение жилой и общей площади, а также отношение площади кухни к общей.\n",
    "    \n",
    " \n"
   ]
  },
  {
   "cell_type": "code",
   "execution_count": 10,
   "metadata": {},
   "outputs": [],
   "source": [
    "def square_meter_price(row):\n",
    "    price=row['last_price']\n",
    "    area=row['total_area']\n",
    "    return price/area\n",
    "df['price_for_meter']=df.apply(square_meter_price,axis=1)\n",
    "\n"
   ]
  },
  {
   "cell_type": "code",
   "execution_count": 11,
   "metadata": {},
   "outputs": [],
   "source": [
    "def floor_name(row):\n",
    "    floor=row['floor']\n",
    "    floors=row['floors_total']\n",
    "    if floor==1:\n",
    "        return 'первый'\n",
    "    if floor==floors:\n",
    "        return 'последний'\n",
    "    else:\n",
    "        return 'другой'\n",
    "df['floor_name']=df.apply(floor_name,axis=1)\n",
    "df['date'] = pd.to_datetime(df['first_day_exposition'], format='%Y-%m-%d %H:%M')\n",
    "df['weekday'] = df['date'].dt.weekday"
   ]
  },
  {
   "cell_type": "code",
   "execution_count": 12,
   "metadata": {},
   "outputs": [],
   "source": [
    "def ratio_living_area(row):\n",
    "    living_area=row['living_area']\n",
    "    total_area=row['total_area']\n",
    "    return round(living_area/total_area,3)\n",
    "def ratio_kitchen_area(row):\n",
    "    kitchen_area=row['kitchen_area']\n",
    "    total_area=row['total_area']\n",
    "    return round(kitchen_area/total_area,3)\n",
    "df['ratio_living_area']=df.apply(ratio_living_area,axis=1)\n",
    "df['ratio_kitchen_area']=df.apply(ratio_kitchen_area,axis=1)\n"
   ]
  },
  {
   "cell_type": "code",
   "execution_count": 13,
   "metadata": {},
   "outputs": [
    {
     "name": "stdout",
     "output_type": "stream",
     "text": [
      "<class 'pandas.core.frame.DataFrame'>\n",
      "Int64Index: 22815 entries, 0 to 23698\n",
      "Data columns (total 29 columns):\n",
      " #   Column                Non-Null Count  Dtype         \n",
      "---  ------                --------------  -----         \n",
      " 0   total_images          22815 non-null  int64         \n",
      " 1   last_price            22815 non-null  int64         \n",
      " 2   total_area            22815 non-null  float64       \n",
      " 3   first_day_exposition  22815 non-null  object        \n",
      " 4   rooms                 22815 non-null  int64         \n",
      " 5   ceiling_height        22815 non-null  float64       \n",
      " 6   floors_total          22815 non-null  int64         \n",
      " 7   living_area           22815 non-null  float64       \n",
      " 8   floor                 22815 non-null  int64         \n",
      " 9   is_apartment          22815 non-null  bool          \n",
      " 10  studio                22815 non-null  bool          \n",
      " 11  open_plan             22815 non-null  bool          \n",
      " 12  kitchen_area          22815 non-null  float64       \n",
      " 13  balcony               22815 non-null  int64         \n",
      " 14  locality_name         22767 non-null  object        \n",
      " 15  airports_nearest      22815 non-null  float64       \n",
      " 16  cityCenters_nearest   22815 non-null  float64       \n",
      " 17  parks_around3000      22815 non-null  int64         \n",
      " 18  parks_nearest         7895 non-null   float64       \n",
      " 19  ponds_around3000      22815 non-null  int64         \n",
      " 20  ponds_nearest         8829 non-null   float64       \n",
      " 21  days_exposition       22815 non-null  float64       \n",
      " 22  days_exposition       22815 non-null  int64         \n",
      " 23  price_for_meter       22815 non-null  float64       \n",
      " 24  floor_name            22815 non-null  object        \n",
      " 25  date                  22815 non-null  datetime64[ns]\n",
      " 26  weekday               22815 non-null  int64         \n",
      " 27  ratio_living_area     22815 non-null  float64       \n",
      " 28  ratio_kitchen_area    22815 non-null  float64       \n",
      "dtypes: bool(3), datetime64[ns](1), float64(12), int64(10), object(3)\n",
      "memory usage: 4.8+ MB\n"
     ]
    }
   ],
   "source": [
    "df.head()\n",
    "df.info()"
   ]
  },
  {
   "cell_type": "code",
   "execution_count": 14,
   "metadata": {
    "scrolled": false
   },
   "outputs": [
    {
     "data": {
      "text/html": [
       "<div>\n",
       "<style scoped>\n",
       "    .dataframe tbody tr th:only-of-type {\n",
       "        vertical-align: middle;\n",
       "    }\n",
       "\n",
       "    .dataframe tbody tr th {\n",
       "        vertical-align: top;\n",
       "    }\n",
       "\n",
       "    .dataframe thead th {\n",
       "        text-align: right;\n",
       "    }\n",
       "</style>\n",
       "<table border=\"1\" class=\"dataframe\">\n",
       "  <thead>\n",
       "    <tr style=\"text-align: right;\">\n",
       "      <th></th>\n",
       "      <th>total_images</th>\n",
       "      <th>last_price</th>\n",
       "      <th>total_area</th>\n",
       "      <th>first_day_exposition</th>\n",
       "      <th>rooms</th>\n",
       "      <th>ceiling_height</th>\n",
       "      <th>floors_total</th>\n",
       "      <th>living_area</th>\n",
       "      <th>floor</th>\n",
       "      <th>is_apartment</th>\n",
       "      <th>...</th>\n",
       "      <th>ponds_around3000</th>\n",
       "      <th>ponds_nearest</th>\n",
       "      <th>days_exposition</th>\n",
       "      <th>days_exposition</th>\n",
       "      <th>price_for_meter</th>\n",
       "      <th>floor_name</th>\n",
       "      <th>date</th>\n",
       "      <th>weekday</th>\n",
       "      <th>ratio_living_area</th>\n",
       "      <th>ratio_kitchen_area</th>\n",
       "    </tr>\n",
       "  </thead>\n",
       "  <tbody>\n",
       "    <tr>\n",
       "      <th>0</th>\n",
       "      <td>20</td>\n",
       "      <td>13000000</td>\n",
       "      <td>108.0</td>\n",
       "      <td>2019-03-07T00:00:00</td>\n",
       "      <td>3</td>\n",
       "      <td>2.70</td>\n",
       "      <td>16</td>\n",
       "      <td>51.0</td>\n",
       "      <td>8</td>\n",
       "      <td>True</td>\n",
       "      <td>...</td>\n",
       "      <td>2</td>\n",
       "      <td>755.0</td>\n",
       "      <td>95.0</td>\n",
       "      <td>95</td>\n",
       "      <td>120370.370370</td>\n",
       "      <td>другой</td>\n",
       "      <td>2019-03-07</td>\n",
       "      <td>3</td>\n",
       "      <td>0.472</td>\n",
       "      <td>0.231</td>\n",
       "    </tr>\n",
       "    <tr>\n",
       "      <th>1</th>\n",
       "      <td>7</td>\n",
       "      <td>3350000</td>\n",
       "      <td>40.4</td>\n",
       "      <td>2018-12-04T00:00:00</td>\n",
       "      <td>1</td>\n",
       "      <td>2.65</td>\n",
       "      <td>11</td>\n",
       "      <td>18.6</td>\n",
       "      <td>1</td>\n",
       "      <td>True</td>\n",
       "      <td>...</td>\n",
       "      <td>0</td>\n",
       "      <td>NaN</td>\n",
       "      <td>81.0</td>\n",
       "      <td>81</td>\n",
       "      <td>82920.792079</td>\n",
       "      <td>первый</td>\n",
       "      <td>2018-12-04</td>\n",
       "      <td>1</td>\n",
       "      <td>0.460</td>\n",
       "      <td>0.272</td>\n",
       "    </tr>\n",
       "    <tr>\n",
       "      <th>2</th>\n",
       "      <td>10</td>\n",
       "      <td>5196000</td>\n",
       "      <td>56.0</td>\n",
       "      <td>2015-08-20T00:00:00</td>\n",
       "      <td>2</td>\n",
       "      <td>2.65</td>\n",
       "      <td>5</td>\n",
       "      <td>34.3</td>\n",
       "      <td>4</td>\n",
       "      <td>True</td>\n",
       "      <td>...</td>\n",
       "      <td>2</td>\n",
       "      <td>574.0</td>\n",
       "      <td>558.0</td>\n",
       "      <td>558</td>\n",
       "      <td>92785.714286</td>\n",
       "      <td>другой</td>\n",
       "      <td>2015-08-20</td>\n",
       "      <td>3</td>\n",
       "      <td>0.612</td>\n",
       "      <td>0.148</td>\n",
       "    </tr>\n",
       "    <tr>\n",
       "      <th>3</th>\n",
       "      <td>0</td>\n",
       "      <td>64900000</td>\n",
       "      <td>159.0</td>\n",
       "      <td>2015-07-24T00:00:00</td>\n",
       "      <td>3</td>\n",
       "      <td>2.65</td>\n",
       "      <td>14</td>\n",
       "      <td>30.0</td>\n",
       "      <td>9</td>\n",
       "      <td>True</td>\n",
       "      <td>...</td>\n",
       "      <td>3</td>\n",
       "      <td>234.0</td>\n",
       "      <td>424.0</td>\n",
       "      <td>424</td>\n",
       "      <td>408176.100629</td>\n",
       "      <td>другой</td>\n",
       "      <td>2015-07-24</td>\n",
       "      <td>4</td>\n",
       "      <td>0.189</td>\n",
       "      <td>0.057</td>\n",
       "    </tr>\n",
       "    <tr>\n",
       "      <th>4</th>\n",
       "      <td>2</td>\n",
       "      <td>10000000</td>\n",
       "      <td>100.0</td>\n",
       "      <td>2018-06-19T00:00:00</td>\n",
       "      <td>2</td>\n",
       "      <td>3.03</td>\n",
       "      <td>14</td>\n",
       "      <td>32.0</td>\n",
       "      <td>13</td>\n",
       "      <td>True</td>\n",
       "      <td>...</td>\n",
       "      <td>1</td>\n",
       "      <td>48.0</td>\n",
       "      <td>121.0</td>\n",
       "      <td>121</td>\n",
       "      <td>100000.000000</td>\n",
       "      <td>другой</td>\n",
       "      <td>2018-06-19</td>\n",
       "      <td>1</td>\n",
       "      <td>0.320</td>\n",
       "      <td>0.410</td>\n",
       "    </tr>\n",
       "  </tbody>\n",
       "</table>\n",
       "<p>5 rows × 29 columns</p>\n",
       "</div>"
      ],
      "text/plain": [
       "   total_images  last_price  total_area first_day_exposition  rooms  \\\n",
       "0            20    13000000       108.0  2019-03-07T00:00:00      3   \n",
       "1             7     3350000        40.4  2018-12-04T00:00:00      1   \n",
       "2            10     5196000        56.0  2015-08-20T00:00:00      2   \n",
       "3             0    64900000       159.0  2015-07-24T00:00:00      3   \n",
       "4             2    10000000       100.0  2018-06-19T00:00:00      2   \n",
       "\n",
       "   ceiling_height  floors_total  living_area  floor  is_apartment  ...  \\\n",
       "0            2.70            16         51.0      8          True  ...   \n",
       "1            2.65            11         18.6      1          True  ...   \n",
       "2            2.65             5         34.3      4          True  ...   \n",
       "3            2.65            14         30.0      9          True  ...   \n",
       "4            3.03            14         32.0     13          True  ...   \n",
       "\n",
       "   ponds_around3000  ponds_nearest  days_exposition  days_exposition   \\\n",
       "0                 2          755.0             95.0                95   \n",
       "1                 0            NaN             81.0                81   \n",
       "2                 2          574.0            558.0               558   \n",
       "3                 3          234.0            424.0               424   \n",
       "4                 1           48.0            121.0               121   \n",
       "\n",
       "  price_for_meter  floor_name       date  weekday  ratio_living_area  \\\n",
       "0   120370.370370      другой 2019-03-07        3              0.472   \n",
       "1    82920.792079      первый 2018-12-04        1              0.460   \n",
       "2    92785.714286      другой 2015-08-20        3              0.612   \n",
       "3   408176.100629      другой 2015-07-24        4              0.189   \n",
       "4   100000.000000      другой 2018-06-19        1              0.320   \n",
       "\n",
       "   ratio_kitchen_area  \n",
       "0               0.231  \n",
       "1               0.272  \n",
       "2               0.148  \n",
       "3               0.057  \n",
       "4               0.410  \n",
       "\n",
       "[5 rows x 29 columns]"
      ]
     },
     "execution_count": 14,
     "metadata": {},
     "output_type": "execute_result"
    }
   ],
   "source": [
    "df.head()"
   ]
  },
  {
   "cell_type": "markdown",
   "metadata": {},
   "source": [
    "## Исследовательский анализ данных"
   ]
  },
  {
   "cell_type": "markdown",
   "metadata": {},
   "source": [
    "<div class=\"alert alert-info\">\n",
    "<font color='Blue'>\n",
    "\n",
    "   <b> Изучаю следующие параметры: площадь, цена, число комнат, высота потолков.\n",
    "       Построю гистограммы для каждого параметра."
   ]
  },
  {
   "cell_type": "code",
   "execution_count": 15,
   "metadata": {},
   "outputs": [
    {
     "name": "stdout",
     "output_type": "stream",
     "text": [
      "[[<AxesSubplot:title={'center':'total_area'}>]]\n",
      "Средняя площадь квартир: 61.35\n",
      "Медианная площадь квартир: 53.0\n"
     ]
    },
    {
     "data": {
      "image/png": "[encoded data removed]",
      "text/plain": [
       "<Figure size 1152x360 with 1 Axes>"
      ]
     },
     "metadata": {
      "needs_background": "light"
     },
     "output_type": "display_data"
    }
   ],
   "source": [
    "print(df.hist('total_area',range=(0,300),figsize=(16,5)))\n",
    "print('Средняя площадь квартир:',round(df['total_area'].mean(),2))\n",
    "print('Медианная площадь квартир:',round(df['total_area'].median(),2))\n"
   ]
  },
  {
   "cell_type": "markdown",
   "metadata": {},
   "source": [
    "<div class=\"alert alert-info\">\n",
    "<font color='Blue'>\n",
    "\n",
    "   <b> Наибольшее количество квартир имеют площадь от 30 до 65 кв.м. Заметно снижается количество квартир с площадью выше 80 кв.м и совсем редко встречаются квартиры с площадью выше 170 кв.м."
   ]
  },
  {
   "cell_type": "markdown",
   "metadata": {},
   "source": [
    "<div class=\"alert alert-info\">\n",
    "<font color='Blue'>\n",
    "\n",
    "   <b> Наибольшее количество квартир стоят в диапазоне 4-7 миллионов, квартиры с ценой выше 30 миллионов встречаются очень редко.\n",
    "      "
   ]
  },
  {
   "cell_type": "code",
   "execution_count": 16,
   "metadata": {},
   "outputs": [
    {
     "name": "stdout",
     "output_type": "stream",
     "text": [
      "[[<AxesSubplot:title={'center':'last_price'}>]]\n",
      "Средняя цена квартиры: 6654275.52\n",
      "Медианная цена квартиры: 4700000.0\n"
     ]
    },
    {
     "data": {
      "image/png": "[encoded data removed]",
      "text/plain": [
       "<Figure size 1152x360 with 1 Axes>"
      ]
     },
     "metadata": {
      "needs_background": "light"
     },
     "output_type": "display_data"
    }
   ],
   "source": [
    "print(df.hist('last_price', range=(0,30000000),figsize=(16,5) ))\n",
    "print('Средняя цена квартиры:',round(df['last_price'].mean(),2))\n",
    "print('Медианная цена квартиры:',round(df['last_price'].median(),2))"
   ]
  },
  {
   "cell_type": "code",
   "execution_count": 17,
   "metadata": {},
   "outputs": [
    {
     "name": "stdout",
     "output_type": "stream",
     "text": [
      "[[<AxesSubplot:title={'center':'rooms'}>]]\n",
      "Среднее количество комнат: 2.11\n",
      "Медианное количество комнат: 2.0\n"
     ]
    },
    {
     "data": {
      "image/png": "[encoded data removed]",
      "text/plain": [
       "<Figure size 1152x360 with 1 Axes>"
      ]
     },
     "metadata": {
      "needs_background": "light"
     },
     "output_type": "display_data"
    }
   ],
   "source": [
    "print(df.hist('rooms',bins=20 ,range=(0,10),figsize=(16,5) ))\n",
    "print('Среднее количество комнат:',round(df['rooms'].mean(),2))\n",
    "print('Медианное количество комнат:',round(df['rooms'].median(),2))\n"
   ]
  },
  {
   "cell_type": "markdown",
   "metadata": {},
   "source": [
    "<div class=\"alert alert-info\">\n",
    "<font color='Blue'>\n",
    "\n",
    "   <b> Наибольшее количество квартир имеют 1-3 комнаты, 4 и 5 комнаты встречаются реже и выше 6 совсем редко. "
   ]
  },
  {
   "cell_type": "code",
   "execution_count": 18,
   "metadata": {},
   "outputs": [
    {
     "name": "stdout",
     "output_type": "stream",
     "text": [
      "[[<AxesSubplot:title={'center':'ceiling_height'}>]]\n",
      "Средняя высота потолков: 2.72\n",
      "Медианная высота потолков: 2.65\n"
     ]
    },
    {
     "data": {
      "image/png": "[encoded data removed]",
      "text/plain": [
       "<Figure size 1152x360 with 1 Axes>"
      ]
     },
     "metadata": {
      "needs_background": "light"
     },
     "output_type": "display_data"
    }
   ],
   "source": [
    "print(df.hist('ceiling_height',bins=100, range=(2,4),figsize=(16,5) ))\n",
    "print('Средняя высота потолков:',round(df['ceiling_height'].mean(),2))\n",
    "print('Медианная высота потолков:',round(df['ceiling_height'].median(),2))"
   ]
  },
  {
   "cell_type": "markdown",
   "metadata": {},
   "source": [
    "<div class=\"alert alert-info\">\n",
    "<font color='Blue'>\n",
    "\n",
    "   <b> Наибольшее количество квартир имеют всоту потолков 2.6м, часто попадается высота 2.5 метра, реже 3 метра."
   ]
  },
  {
   "cell_type": "code",
   "execution_count": 19,
   "metadata": {},
   "outputs": [
    {
     "name": "stdout",
     "output_type": "stream",
     "text": [
      "[[<AxesSubplot:title={'center':'days_exposition'}>]]\n",
      "Медиана дней до продажи равна: 95.0\n",
      "Среднее дней до продажи равно: 171\n"
     ]
    },
    {
     "data": {
      "image/png": "[encoded data removed]",
      "text/plain": [
       "<Figure size 1080x360 with 1 Axes>"
      ]
     },
     "metadata": {
      "needs_background": "light"
     },
     "output_type": "display_data"
    }
   ],
   "source": [
    "print(df.hist('days_exposition',bins=100, range=(1,1500),figsize=(15,5) ))\n",
    "\n",
    "print('Медиана дней до продажи равна:',df['days_exposition'].median())\n",
    "print('Среднее дней до продажи равно:',round(df['days_exposition'].mean()))"
   ]
  },
  {
   "cell_type": "markdown",
   "metadata": {},
   "source": [
    "<div class=\"alert alert-info\">\n",
    "   \n",
    "<font color='Blue'>\n",
    "\n",
    "   <b> Среднее время продажы квартиры 170 дней значительно выше медианного значения из-за выбросов большого времени продажи свыше 800 дней, поэтому можно удалить редкие и выбивающиеся значения, так как самое частое время продажи квартиры около 100 дней, это значение будем считать обычным временем продажи, так же часто продажи случались в период от 0 до 60 дней. Так же есть предположение что дорогие квартиры продаются дольше. \n",
    "       <p>\n",
    "           Поэтому убираем редкие и выбивающиеся значения, такие как цена выше 30 миллионов и слишком долгие периоды до продажи квартир:"
   ]
  },
  {
   "cell_type": "code",
   "execution_count": 20,
   "metadata": {},
   "outputs": [],
   "source": [
    "df=df.query('last_price<30000000') # исключаю из таблицы квартиры стоимостью выше 30 миллионов, что бы уменьшить влияние выбросов на средние значения"
   ]
  },
  {
   "cell_type": "code",
   "execution_count": 21,
   "metadata": {},
   "outputs": [],
   "source": [
    "df=df.query('rooms<7') # исключаю из таблицы квартиры c количеством комнат больше семи, что бы уменьшить влияние выбросов на средние значения"
   ]
  },
  {
   "cell_type": "code",
   "execution_count": 22,
   "metadata": {},
   "outputs": [],
   "source": [
    "df=df.query('total_area<200') # исключаю из таблицы квартиры c площадью больше 200, что бы уменьшить влияние выбросов на средние значения"
   ]
  },
  {
   "cell_type": "code",
   "execution_count": 23,
   "metadata": {},
   "outputs": [],
   "source": [
    "df=df.query('ceiling_height<3') # исключаю из таблицы квартиры c количеством комнат больше семи, что бы уменьшить влияние выбросов на средние значения"
   ]
  },
  {
   "cell_type": "code",
   "execution_count": 24,
   "metadata": {},
   "outputs": [
    {
     "data": {
      "image/png": "[encoded data removed]",
      "text/plain": [
       "<Figure size 432x288 with 1 Axes>"
      ]
     },
     "metadata": {
      "needs_background": "light"
     },
     "output_type": "display_data"
    }
   ],
   "source": [
    "df.boxplot('days_exposition')\n",
    "Q1 =  df['days_exposition'].quantile(0.25)\n",
    "Q3 = df['days_exposition'].quantile(0.75)\n",
    "IQR = Q3 - Q1\n",
    "#(df['days_exposition'] < Q1-1.5*IQR ) | (df['days_exposition'] > Q3+1.5*IQR)\n",
    "df= df[(df['days_exposition'] > (Q1-1.5*IQR)) & (df['days_exposition'] < (Q3+1.5*IQR))]\n"
   ]
  },
  {
   "cell_type": "code",
   "execution_count": 25,
   "metadata": {},
   "outputs": [
    {
     "name": "stdout",
     "output_type": "stream",
     "text": [
      "Медиана дней до продажи равна: 95\n",
      "Среднее дней до продажи равно: 110\n"
     ]
    },
    {
     "data": {
      "image/png": "[encoded data removed]",
      "text/plain": [
       "<Figure size 432x288 with 1 Axes>"
      ]
     },
     "metadata": {
      "needs_background": "light"
     },
     "output_type": "display_data"
    }
   ],
   "source": [
    "df.boxplot(column=\"days_exposition\")\n",
    "print('Медиана дней до продажи равна:',round(df['days_exposition'].median()))\n",
    "print('Среднее дней до продажи равно:',round(df['days_exposition'].mean()))"
   ]
  },
  {
   "cell_type": "code",
   "execution_count": 26,
   "metadata": {},
   "outputs": [
    {
     "name": "stdout",
     "output_type": "stream",
     "text": [
      "[[<AxesSubplot:title={'center':'days_exposition'}>]]\n"
     ]
    },
    {
     "data": {
      "image/png": "[encoded data removed]",
      "text/plain": [
       "<Figure size 1080x360 with 1 Axes>"
      ]
     },
     "metadata": {
      "needs_background": "light"
     },
     "output_type": "display_data"
    }
   ],
   "source": [
    "print(df.hist('days_exposition',bins=100, range=(1,500),figsize=(15,5) ))\n"
   ]
  },
  {
   "cell_type": "markdown",
   "metadata": {},
   "source": [
    "<div class=\"alert alert-info\">\n",
    "<font color='Blue'>\n",
    "\n",
    "   <b> Среднее значение стало намного ближе к медианному значению времени продажи квартир, теперь можно сказать что обычное время продажи квартир не превышает 4 месяца, так же часто квартиры продаются через 1.5-2 месяца."
   ]
  },
  {
   "cell_type": "markdown",
   "metadata": {},
   "source": [
    "<div class=\"alert alert-block alert-info\"> Очистил о выбросов другие параметры"
   ]
  },
  {
   "cell_type": "markdown",
   "metadata": {},
   "source": [
    "<div class=\"alert alert-info\">\n",
    "<b>Задание:</b>\n",
    "      <p>Какие факторы больше всего влияют на стоимость квартиры? Изучите, зависит ли цена от площади, числа комнат, удалённости от центра. Изучите зависимость цены от того, на каком этаже расположена квартира: первом, последнем или другом. Также изучите зависимость от даты размещения: дня недели, месяца и года.\n",
    "       <font color='Blue'>\n",
    "\n",
    "   <b> Для этого найдем коэффициенты корреляции\n"
   ]
  },
  {
   "cell_type": "code",
   "execution_count": 27,
   "metadata": {},
   "outputs": [
    {
     "name": "stdout",
     "output_type": "stream",
     "text": [
      "Коэффициент корреляции между ценой и площадью: 0.7627850463354904\n",
      "Коэффициент корреляции между ценой и количеством комнат: 0.44896025792074257\n",
      "Коэффициент корреляции между ценой и расстоянием до центра: -0.21752915435499887\n",
      "Коэффициент корреляции между ценой и этажом(первый, последний или другой): 0.03765700193133295\n",
      "Коэффициент корреляции между ценой и дней до продажи: 0.04060421523773538\n"
     ]
    }
   ],
   "source": [
    "\n",
    "\n",
    "\n",
    "\n",
    "def floor_name_number(row):\n",
    "    floor=row['floor_name']\n",
    "    if floor=='первый':\n",
    "        return 1\n",
    "    if floor=='другой':\n",
    "        return 2\n",
    "    else:\n",
    "        return 3\n",
    "    \n",
    "df['floor_name_number']=df.apply(floor_name_number,axis=1)\n",
    "df.head()\n",
    "print('Коэффициент корреляции между ценой и площадью:',df['last_price'].corr(df['total_area']))\n",
    "print('Коэффициент корреляции между ценой и количеством комнат:',df['last_price'].corr(df['rooms']))\n",
    "print('Коэффициент корреляции между ценой и расстоянием до центра:',df['last_price'].corr(df['cityCenters_nearest']))\n",
    "print('Коэффициент корреляции между ценой и этажом(первый, последний или другой):',df['last_price'].corr(df['floor_name_number']))\n",
    "print('Коэффициент корреляции между ценой и дней до продажи:',df['last_price'].corr(df['days_exposition']))\n",
    "\n"
   ]
  },
  {
   "cell_type": "markdown",
   "metadata": {},
   "source": [
    "<div class=\"alert alert-success\">\n",
    "<b>✔️ Комментарий ревьюера v2</b>\n",
    "\n",
    "👍🏼\n",
    "\n",
    "</div>"
   ]
  },
  {
   "cell_type": "markdown",
   "metadata": {},
   "source": [
    "<div class=\"alert alert-info\">\n",
    "\n",
    "<font color='Blue'>\n",
    "\n",
    "   <b> На стоимость квартиры сильнее всего влияет площадь и количество комнат, а так же удалённость от центра. Количество этажей и время размещения объявления влияет меньше."
   ]
  },
  {
   "cell_type": "markdown",
   "metadata": {},
   "source": [
    "<div class=\"alert alert-block alert-info\"> Добавил колонки с годом и с месяцем для изучения зависимости и построил гистограммы"
   ]
  },
  {
   "cell_type": "code",
   "execution_count": 28,
   "metadata": {},
   "outputs": [
    {
     "data": {
      "text/html": [
       "<div>\n",
       "<style scoped>\n",
       "    .dataframe tbody tr th:only-of-type {\n",
       "        vertical-align: middle;\n",
       "    }\n",
       "\n",
       "    .dataframe tbody tr th {\n",
       "        vertical-align: top;\n",
       "    }\n",
       "\n",
       "    .dataframe thead th {\n",
       "        text-align: right;\n",
       "    }\n",
       "</style>\n",
       "<table border=\"1\" class=\"dataframe\">\n",
       "  <thead>\n",
       "    <tr style=\"text-align: right;\">\n",
       "      <th></th>\n",
       "      <th>total_images</th>\n",
       "      <th>last_price</th>\n",
       "      <th>total_area</th>\n",
       "      <th>first_day_exposition</th>\n",
       "      <th>rooms</th>\n",
       "      <th>ceiling_height</th>\n",
       "      <th>floors_total</th>\n",
       "      <th>living_area</th>\n",
       "      <th>floor</th>\n",
       "      <th>is_apartment</th>\n",
       "      <th>...</th>\n",
       "      <th>days_exposition</th>\n",
       "      <th>price_for_meter</th>\n",
       "      <th>floor_name</th>\n",
       "      <th>date</th>\n",
       "      <th>weekday</th>\n",
       "      <th>ratio_living_area</th>\n",
       "      <th>ratio_kitchen_area</th>\n",
       "      <th>floor_name_number</th>\n",
       "      <th>year</th>\n",
       "      <th>month</th>\n",
       "    </tr>\n",
       "  </thead>\n",
       "  <tbody>\n",
       "    <tr>\n",
       "      <th>0</th>\n",
       "      <td>20</td>\n",
       "      <td>13000000</td>\n",
       "      <td>108.0</td>\n",
       "      <td>2019-03-07T00:00:00</td>\n",
       "      <td>3</td>\n",
       "      <td>2.70</td>\n",
       "      <td>16</td>\n",
       "      <td>51.0</td>\n",
       "      <td>8</td>\n",
       "      <td>True</td>\n",
       "      <td>...</td>\n",
       "      <td>95</td>\n",
       "      <td>120370.370370</td>\n",
       "      <td>другой</td>\n",
       "      <td>2019-03-07</td>\n",
       "      <td>3</td>\n",
       "      <td>0.472</td>\n",
       "      <td>0.231</td>\n",
       "      <td>2</td>\n",
       "      <td>2019</td>\n",
       "      <td>3</td>\n",
       "    </tr>\n",
       "    <tr>\n",
       "      <th>1</th>\n",
       "      <td>7</td>\n",
       "      <td>3350000</td>\n",
       "      <td>40.4</td>\n",
       "      <td>2018-12-04T00:00:00</td>\n",
       "      <td>1</td>\n",
       "      <td>2.65</td>\n",
       "      <td>11</td>\n",
       "      <td>18.6</td>\n",
       "      <td>1</td>\n",
       "      <td>True</td>\n",
       "      <td>...</td>\n",
       "      <td>81</td>\n",
       "      <td>82920.792079</td>\n",
       "      <td>первый</td>\n",
       "      <td>2018-12-04</td>\n",
       "      <td>1</td>\n",
       "      <td>0.460</td>\n",
       "      <td>0.272</td>\n",
       "      <td>1</td>\n",
       "      <td>2018</td>\n",
       "      <td>12</td>\n",
       "    </tr>\n",
       "    <tr>\n",
       "      <th>5</th>\n",
       "      <td>10</td>\n",
       "      <td>2890000</td>\n",
       "      <td>30.4</td>\n",
       "      <td>2018-09-10T00:00:00</td>\n",
       "      <td>1</td>\n",
       "      <td>2.65</td>\n",
       "      <td>12</td>\n",
       "      <td>14.4</td>\n",
       "      <td>5</td>\n",
       "      <td>True</td>\n",
       "      <td>...</td>\n",
       "      <td>55</td>\n",
       "      <td>95065.789474</td>\n",
       "      <td>другой</td>\n",
       "      <td>2018-09-10</td>\n",
       "      <td>0</td>\n",
       "      <td>0.474</td>\n",
       "      <td>0.299</td>\n",
       "      <td>2</td>\n",
       "      <td>2018</td>\n",
       "      <td>9</td>\n",
       "    </tr>\n",
       "    <tr>\n",
       "      <th>6</th>\n",
       "      <td>6</td>\n",
       "      <td>3700000</td>\n",
       "      <td>37.3</td>\n",
       "      <td>2017-11-02T00:00:00</td>\n",
       "      <td>1</td>\n",
       "      <td>2.65</td>\n",
       "      <td>26</td>\n",
       "      <td>10.6</td>\n",
       "      <td>6</td>\n",
       "      <td>True</td>\n",
       "      <td>...</td>\n",
       "      <td>155</td>\n",
       "      <td>99195.710456</td>\n",
       "      <td>другой</td>\n",
       "      <td>2017-11-02</td>\n",
       "      <td>3</td>\n",
       "      <td>0.284</td>\n",
       "      <td>0.386</td>\n",
       "      <td>2</td>\n",
       "      <td>2017</td>\n",
       "      <td>11</td>\n",
       "    </tr>\n",
       "    <tr>\n",
       "      <th>7</th>\n",
       "      <td>5</td>\n",
       "      <td>7915000</td>\n",
       "      <td>71.6</td>\n",
       "      <td>2019-04-18T00:00:00</td>\n",
       "      <td>2</td>\n",
       "      <td>2.65</td>\n",
       "      <td>24</td>\n",
       "      <td>30.0</td>\n",
       "      <td>22</td>\n",
       "      <td>True</td>\n",
       "      <td>...</td>\n",
       "      <td>95</td>\n",
       "      <td>110544.692737</td>\n",
       "      <td>другой</td>\n",
       "      <td>2019-04-18</td>\n",
       "      <td>3</td>\n",
       "      <td>0.419</td>\n",
       "      <td>0.264</td>\n",
       "      <td>2</td>\n",
       "      <td>2019</td>\n",
       "      <td>4</td>\n",
       "    </tr>\n",
       "  </tbody>\n",
       "</table>\n",
       "<p>5 rows × 32 columns</p>\n",
       "</div>"
      ],
      "text/plain": [
       "   total_images  last_price  total_area first_day_exposition  rooms  \\\n",
       "0            20    13000000       108.0  2019-03-07T00:00:00      3   \n",
       "1             7     3350000        40.4  2018-12-04T00:00:00      1   \n",
       "5            10     2890000        30.4  2018-09-10T00:00:00      1   \n",
       "6             6     3700000        37.3  2017-11-02T00:00:00      1   \n",
       "7             5     7915000        71.6  2019-04-18T00:00:00      2   \n",
       "\n",
       "   ceiling_height  floors_total  living_area  floor  is_apartment  ...  \\\n",
       "0            2.70            16         51.0      8          True  ...   \n",
       "1            2.65            11         18.6      1          True  ...   \n",
       "5            2.65            12         14.4      5          True  ...   \n",
       "6            2.65            26         10.6      6          True  ...   \n",
       "7            2.65            24         30.0     22          True  ...   \n",
       "\n",
       "   days_exposition   price_for_meter  floor_name       date weekday  \\\n",
       "0                95    120370.370370      другой 2019-03-07       3   \n",
       "1                81     82920.792079      первый 2018-12-04       1   \n",
       "5                55     95065.789474      другой 2018-09-10       0   \n",
       "6               155     99195.710456      другой 2017-11-02       3   \n",
       "7                95    110544.692737      другой 2019-04-18       3   \n",
       "\n",
       "   ratio_living_area  ratio_kitchen_area  floor_name_number  year  month  \n",
       "0              0.472               0.231                  2  2019      3  \n",
       "1              0.460               0.272                  1  2018     12  \n",
       "5              0.474               0.299                  2  2018      9  \n",
       "6              0.284               0.386                  2  2017     11  \n",
       "7              0.419               0.264                  2  2019      4  \n",
       "\n",
       "[5 rows x 32 columns]"
      ]
     },
     "execution_count": 28,
     "metadata": {},
     "output_type": "execute_result"
    }
   ],
   "source": [
    "df['year']=pd.DatetimeIndex(df['date']).year\n",
    "df['month']=pd.DatetimeIndex(df['date']).month\n",
    "df.head()\n"
   ]
  },
  {
   "cell_type": "code",
   "execution_count": 29,
   "metadata": {},
   "outputs": [
    {
     "data": {
      "text/plain": [
       "array([[<AxesSubplot:title={'center':'weekday'}>]], dtype=object)"
      ]
     },
     "execution_count": 29,
     "metadata": {},
     "output_type": "execute_result"
    },
    {
     "data": {
      "image/png": "[encoded data removed]",
      "text/plain": [
       "<Figure size 432x288 with 1 Axes>"
      ]
     },
     "metadata": {
      "needs_background": "light"
     },
     "output_type": "display_data"
    }
   ],
   "source": [
    "df.hist(['weekday'],bins=21)"
   ]
  },
  {
   "cell_type": "code",
   "execution_count": 30,
   "metadata": {},
   "outputs": [
    {
     "data": {
      "text/plain": [
       "array([[<AxesSubplot:title={'center':'month'}>]], dtype=object)"
      ]
     },
     "execution_count": 30,
     "metadata": {},
     "output_type": "execute_result"
    },
    {
     "data": {
      "image/png": "[encoded data removed]",
      "text/plain": [
       "<Figure size 1080x360 with 1 Axes>"
      ]
     },
     "metadata": {
      "needs_background": "light"
     },
     "output_type": "display_data"
    }
   ],
   "source": [
    "df.hist(['month'],bins=24,figsize=(15,5))"
   ]
  },
  {
   "cell_type": "code",
   "execution_count": 31,
   "metadata": {},
   "outputs": [
    {
     "data": {
      "text/plain": [
       "array([[<AxesSubplot:title={'center':'year'}>]], dtype=object)"
      ]
     },
     "execution_count": 31,
     "metadata": {},
     "output_type": "execute_result"
    },
    {
     "data": {
      "image/png": "[encoded data removed]",
      "text/plain": [
       "<Figure size 432x288 with 1 Axes>"
      ]
     },
     "metadata": {
      "needs_background": "light"
     },
     "output_type": "display_data"
    }
   ],
   "source": [
    "df.hist(['year'],bins=24)"
   ]
  },
  {
   "cell_type": "markdown",
   "metadata": {},
   "source": [
    "<div class=\"alert alert-info\">\n",
    "<font color='Blue'>\n",
    "\n",
    "   <b>Исправил количество столбцов на кратное(семи дням, 12 месяцам и 6 годам соответственно)"
   ]
  },
  {
   "cell_type": "markdown",
   "metadata": {},
   "source": [
    "<div class=\"alert alert-block alert-info\"> По гистограммам видно, что количество объявлений в 2017 и 2018 годах была гораздо выше чем в 2014-2016 и в 2019 возможно это связано с финансовым кризисом, когда вырос спрос на покупку недвижимости, что бы убереь деньги от инфляции. Так же количество объявления заметно ниже в летние месяцы, в мае, в декабре и в январе возможно это связано с отпусками и праздничными днями, так как в выходные дни так же видно, что количество объявлений меньше чем в будние дни.  "
   ]
  },
  {
   "cell_type": "markdown",
   "metadata": {},
   "source": [
    "<div class=\"alert alert-info\">\n",
    "<b>Задание:</b>\n",
    "      <p>Выберите 10 населённых пунктов с наибольшим числом объявлений. Посчитайте среднюю цену квадратного метра в этих населённых пунктах. Выделите среди них населённые пункты с самой высокой и низкой стоимостью жилья. Эти данные можно найти по имени в столбце locality_name."
   ]
  },
  {
   "cell_type": "code",
   "execution_count": 32,
   "metadata": {},
   "outputs": [
    {
     "data": {
      "text/plain": [
       "Санкт-Петербург      11513\n",
       "посёлок Мурино         403\n",
       "посёлок Шушары         390\n",
       "Всеволожск             327\n",
       "Колпино                292\n",
       "посёлок Парголово      289\n",
       "Пушкин                 287\n",
       "Гатчина                250\n",
       "деревня Кудрово        221\n",
       "Выборг                 183\n",
       "Name: locality_name, dtype: int64"
      ]
     },
     "execution_count": 32,
     "metadata": {},
     "output_type": "execute_result"
    }
   ],
   "source": [
    "df['locality_name'].unique()\n",
    "df['locality_name'].value_counts().head(10)\n"
   ]
  },
  {
   "cell_type": "code",
   "execution_count": 33,
   "metadata": {
    "scrolled": true
   },
   "outputs": [
    {
     "name": "stdout",
     "output_type": "stream",
     "text": [
      "\u001b[1m\u001b[94mCредняя цена за метр в Санкт-Петербурге:\u001b[0m 107627\n",
      "Cредняя цена за метр в посёлке Мурино: 85113\n",
      "Cредняя цена за метр в посёлке Шушары: 78104\n",
      "Cредняя цена за метр в Всеволжске: 68566\n",
      "Cредняя цена за метр в Пушкине: 101420\n",
      "Cредняя цена за метр в Колпино: 75328\n",
      "Cредняя цена за метр в посёлке Парголово: 89726\n",
      "Cредняя цена за метр в Гатчине: 68452\n",
      "Cредняя цена за метр в деревне Кудрово: 91933\n",
      "\u001b[1m\u001b[91mCредняя цена за метр в Выборге:\u001b[0m 57422\n"
     ]
    }
   ],
   "source": [
    "\n",
    "df_SPB=df.query('locality_name == \"Санкт-Петербург\"')\n",
    "df_SPB.head()\n",
    "print('\\033[1m' + '\\033[94m'+'Cредняя цена за метр в Санкт-Петербурге:' '\\033[0m', round(df_SPB['price_for_meter'].mean()))\n",
    "\n",
    "df_Murino=df.query('locality_name == \"посёлок Мурино\"')\n",
    "print('Cредняя цена за метр в посёлке Мурино:',round(df_Murino['price_for_meter'].mean()))\n",
    "\n",
    "\n",
    "df_Shushari=df.query('locality_name == \"посёлок Шушары\"')\n",
    "print('Cредняя цена за метр в посёлке Шушары:',round(df_Shushari['price_for_meter'].mean()))\n",
    "\n",
    "df_Vsevolshk=df.query('locality_name == \"Всеволожск\"')\n",
    "print('Cредняя цена за метр в Всеволжске:',round(df_Vsevolshk['price_for_meter'].mean()))\n",
    "\n",
    "df_Pushkin=df.query('locality_name == \"Пушкин\"')\n",
    "print('Cредняя цена за метр в Пушкине:',round(df_Pushkin['price_for_meter'].mean()))\n",
    "\n",
    "df_Kolpino=df.query('locality_name == \"Колпино\"')\n",
    "print('Cредняя цена за метр в Колпино:',round(df_Kolpino['price_for_meter'].mean()))\n",
    "\n",
    "df_Pargolovo=df.query('locality_name == \"посёлок Парголово\"')\n",
    "print('Cредняя цена за метр в посёлке Парголово:',round(df_Pargolovo['price_for_meter'].mean()))\n",
    "\n",
    "df_Gatchina=df.query('locality_name == \"Гатчина\"')\n",
    "print('Cредняя цена за метр в Гатчине:',round(df_Gatchina['price_for_meter'].mean()))\n",
    "\n",
    "\n",
    "df_Kudrovo=df.query('locality_name == \"деревня Кудрово\"')\n",
    "print('Cредняя цена за метр в деревне Кудрово:',round(df_Kudrovo['price_for_meter'].mean()))\n",
    "\n",
    "df_Viborg=df.query('locality_name == \"Выборг\"')\n",
    "print('\\033[1m' + '\\033[91m'+'Cредняя цена за метр в Выборге:''\\033[0m',round(df_Viborg['price_for_meter'].mean()))"
   ]
  },
  {
   "cell_type": "markdown",
   "metadata": {},
   "source": [
    "<div class=\"alert alert-info\">\n",
    "<font color='Blue'>\n",
    "\n",
    "   <b>Самое дорогое жильё в Санкт-Петербурге, а самая низкая цена в Выборге."
   ]
  },
  {
   "cell_type": "markdown",
   "metadata": {},
   "source": [
    "<div class=\"alert alert-info\">\n",
    "<b>Задание:</b>\n",
    "      <p>\n",
    "Изучите предложения квартир: для каждой квартиры есть информация о расстоянии до центра. Выделите квартиры в Санкт-Петербурге (locality_name). Ваша задача — выяснить, какая область входит в центр. Создайте столбец с расстоянием до центра в километрах: округлите до целых значений. После этого посчитайте среднюю цену для каждого километра. Постройте график: он должен показывать, как цена зависит от удалённости от центра. Определите границу, где график сильно меняется, — это и будет центральная зона."
   ]
  },
  {
   "cell_type": "code",
   "execution_count": 34,
   "metadata": {},
   "outputs": [
    {
     "name": "stdout",
     "output_type": "stream",
     "text": [
      "[ 0  1  2  3  4  5  6  7  8  9 10 11 12 13 14 15 16 17 18 19 20 21 22 23\n",
      " 24 25 26 27 28 29]\n",
      "Для 0 километров cредняя цена: 8325000.0\n",
      "Для 1 километров cредняя цена: 10714776.0\n",
      "Для 2 километров cредняя цена: 9609051.0\n",
      "Для 3 километров cредняя цена: 9353015.0\n",
      "Для 4 километров cредняя цена: 9028145.0\n",
      "Для 5 километров cредняя цена: 9773332.0\n",
      "Для 6 километров cредняя цена: 8731330.0\n",
      "Для 7 километров cредняя цена: 8630260.0\n",
      "Для 8 километров cредняя цена: 8103936.0\n",
      "Для 9 километров cредняя цена: 6111739.0\n",
      "Для 10 километров cредняя цена: 5981910.0\n",
      "Для 11 километров cредняя цена: 5773917.0\n",
      "Для 12 километров cредняя цена: 5748867.0\n",
      "Для 13 километров cредняя цена: 6127286.0\n",
      "Для 14 километров cредняя цена: 5560740.0\n"
     ]
    },
    {
     "name": "stderr",
     "output_type": "stream",
     "text": [
      "/tmp/ipykernel_186/130169658.py:4: SettingWithCopyWarning: \n",
      "A value is trying to be set on a copy of a slice from a DataFrame.\n",
      "Try using .loc[row_indexer,col_indexer] = value instead\n",
      "\n",
      "See the caveats in the documentation: https://pandas.pydata.org/pandas-docs/stable/user_guide/indexing.html#returning-a-view-versus-a-copy\n",
      "  df_SPB['distance_to_center_km']=round(df_SPB['cityCenters_nearest']/1000)\n",
      "/tmp/ipykernel_186/130169658.py:8: SettingWithCopyWarning: \n",
      "A value is trying to be set on a copy of a slice from a DataFrame.\n",
      "Try using .loc[row_indexer,col_indexer] = value instead\n",
      "\n",
      "See the caveats in the documentation: https://pandas.pydata.org/pandas-docs/stable/user_guide/indexing.html#returning-a-view-versus-a-copy\n",
      "  df_SPB['distance_to_center_km']=df_SPB['distance_to_center_km'].astype('int')#тип int, для удобства работы\n"
     ]
    },
    {
     "name": "stdout",
     "output_type": "stream",
     "text": [
      "Для 15 километров cредняя цена: 5646104.0\n",
      "Для 16 километров cредняя цена: 5310577.0\n",
      "Для 17 километров cредняя цена: 5198488.0\n",
      "Для 18 километров cредняя цена: 4870773.0\n",
      "Для 19 километров cредняя цена: 5153813.0\n",
      "Для 20 километров cредняя цена: 6118614.0\n",
      "Для 21 километров cредняя цена: 5320260.0\n",
      "Для 22 километров cредняя цена: 5444208.0\n",
      "Для 23 километров cредняя цена: 4947257.0\n",
      "Для 24 километров cредняя цена: 3942273.0\n",
      "Для 25 километров cредняя цена: 4260942.0\n",
      "Для 26 километров cредняя цена: 4051063.0\n",
      "Для 27 километров cредняя цена: 2250000.0\n",
      "Для 28 километров cредняя цена: 4597500.0\n",
      "Для 29 километров cредняя цена: 3650000.0\n"
     ]
    }
   ],
   "source": [
    "import warnings\n",
    "warnings.simplefilter(action='ignore', category=FutureWarning)\n",
    "\n",
    "df_SPB['distance_to_center_km']=round(df_SPB['cityCenters_nearest']/1000)\n",
    "df_SPB.head()\n",
    "#df_SPB.plot(y='last_price', x='distance_to_center_km', kind='scatter',figsize=(16,5)) \n",
    "\n",
    "df_SPB['distance_to_center_km']=df_SPB['distance_to_center_km'].astype('int')#тип int, для удобства работы \n",
    "\n",
    "kilometrs=[]\n",
    "kilometrs=df_SPB['distance_to_center_km'].unique()\n",
    "kilometrs.sort()\n",
    "print(kilometrs)\n",
    "\n",
    "\n",
    "#df_temp=df_SPB.query('distance_to_center_km==1')\n",
    "#df_temp.head()\n",
    "def calculate_mean(dataframe):\n",
    "    for i in kilometrs:\n",
    "        df_temp=round(dataframe.query('distance_to_center_km==@i').mean())\n",
    "        print('Для',i,'километров cредняя цена:',df_temp['last_price'])\n",
    "\n",
    "        \n",
    "df_SPB_temp=calculate_mean(df_SPB)\n",
    "\n",
    "#df_SPB_temp.plot(y='last_price', x='distance_to_center_km', kind='scatter',figsize=(16,5))\n",
    "        "
   ]
  },
  {
   "cell_type": "code",
   "execution_count": 35,
   "metadata": {},
   "outputs": [
    {
     "name": "stdout",
     "output_type": "stream",
     "text": [
      "AxesSubplot(0.125,0.125;0.775x0.755)\n"
     ]
    },
    {
     "data": {
      "image/png": "[encoded data removed]",
      "text/plain": [
       "<Figure size 864x360 with 1 Axes>"
      ]
     },
     "metadata": {
      "needs_background": "light"
     },
     "output_type": "display_data"
    }
   ],
   "source": [
    "print(df_SPB.pivot_table(aggfunc='mean',index='distance_to_center_km',values='last_price').plot(grid=True,figsize=(12,5)))"
   ]
  },
  {
   "cell_type": "markdown",
   "metadata": {},
   "source": [
    "<div class=\"alert alert-info\">\n",
    "<font color='Blue'>\n",
    "\n",
    "   <b>Область до седьмого километра входит в центр. Чем дальше от центра тем ниже цена квартир."
   ]
  },
  {
   "cell_type": "markdown",
   "metadata": {},
   "source": [
    "<div class=\"alert alert-info\">\n",
    "<b>Задание:</b>\n",
    "      <p>\n",
    "Выделите сегмент квартир в центре. Проанализируйте эту территорию и изучите следующие параметры: площадь, цена, число комнат, высота потолков. Также выделите факторы, которые влияют на стоимость квартиры (число комнат, этаж, удалённость от центра, дата размещения объявления). Сделайте выводы. Отличаются ли они от общих выводов по всей базе?"
   ]
  },
  {
   "cell_type": "code",
   "execution_count": 36,
   "metadata": {},
   "outputs": [
    {
     "data": {
      "text/html": [
       "<div>\n",
       "<style scoped>\n",
       "    .dataframe tbody tr th:only-of-type {\n",
       "        vertical-align: middle;\n",
       "    }\n",
       "\n",
       "    .dataframe tbody tr th {\n",
       "        vertical-align: top;\n",
       "    }\n",
       "\n",
       "    .dataframe thead th {\n",
       "        text-align: right;\n",
       "    }\n",
       "</style>\n",
       "<table border=\"1\" class=\"dataframe\">\n",
       "  <thead>\n",
       "    <tr style=\"text-align: right;\">\n",
       "      <th></th>\n",
       "      <th>total_images</th>\n",
       "      <th>last_price</th>\n",
       "      <th>total_area</th>\n",
       "      <th>first_day_exposition</th>\n",
       "      <th>rooms</th>\n",
       "      <th>ceiling_height</th>\n",
       "      <th>floors_total</th>\n",
       "      <th>living_area</th>\n",
       "      <th>floor</th>\n",
       "      <th>is_apartment</th>\n",
       "      <th>...</th>\n",
       "      <th>price_for_meter</th>\n",
       "      <th>floor_name</th>\n",
       "      <th>date</th>\n",
       "      <th>weekday</th>\n",
       "      <th>ratio_living_area</th>\n",
       "      <th>ratio_kitchen_area</th>\n",
       "      <th>floor_name_number</th>\n",
       "      <th>year</th>\n",
       "      <th>month</th>\n",
       "      <th>distance_to_center_km</th>\n",
       "    </tr>\n",
       "  </thead>\n",
       "  <tbody>\n",
       "    <tr>\n",
       "      <th>24</th>\n",
       "      <td>8</td>\n",
       "      <td>6500000</td>\n",
       "      <td>97.2</td>\n",
       "      <td>2015-10-31T00:00:00</td>\n",
       "      <td>2</td>\n",
       "      <td>2.65</td>\n",
       "      <td>3</td>\n",
       "      <td>46.5</td>\n",
       "      <td>1</td>\n",
       "      <td>True</td>\n",
       "      <td>...</td>\n",
       "      <td>66872.427984</td>\n",
       "      <td>первый</td>\n",
       "      <td>2015-10-31</td>\n",
       "      <td>5</td>\n",
       "      <td>0.478</td>\n",
       "      <td>0.202</td>\n",
       "      <td>1</td>\n",
       "      <td>2015</td>\n",
       "      <td>10</td>\n",
       "      <td>2</td>\n",
       "    </tr>\n",
       "    <tr>\n",
       "      <th>94</th>\n",
       "      <td>3</td>\n",
       "      <td>3500000</td>\n",
       "      <td>29.5</td>\n",
       "      <td>2019-04-26T00:00:00</td>\n",
       "      <td>1</td>\n",
       "      <td>2.50</td>\n",
       "      <td>5</td>\n",
       "      <td>15.6</td>\n",
       "      <td>2</td>\n",
       "      <td>True</td>\n",
       "      <td>...</td>\n",
       "      <td>118644.067797</td>\n",
       "      <td>другой</td>\n",
       "      <td>2019-04-26</td>\n",
       "      <td>4</td>\n",
       "      <td>0.529</td>\n",
       "      <td>0.186</td>\n",
       "      <td>2</td>\n",
       "      <td>2019</td>\n",
       "      <td>4</td>\n",
       "      <td>7</td>\n",
       "    </tr>\n",
       "    <tr>\n",
       "      <th>99</th>\n",
       "      <td>32</td>\n",
       "      <td>9600000</td>\n",
       "      <td>90.0</td>\n",
       "      <td>2017-09-26T00:00:00</td>\n",
       "      <td>4</td>\n",
       "      <td>2.65</td>\n",
       "      <td>5</td>\n",
       "      <td>67.0</td>\n",
       "      <td>2</td>\n",
       "      <td>True</td>\n",
       "      <td>...</td>\n",
       "      <td>106666.666667</td>\n",
       "      <td>другой</td>\n",
       "      <td>2017-09-26</td>\n",
       "      <td>1</td>\n",
       "      <td>0.744</td>\n",
       "      <td>0.089</td>\n",
       "      <td>2</td>\n",
       "      <td>2017</td>\n",
       "      <td>9</td>\n",
       "      <td>3</td>\n",
       "    </tr>\n",
       "    <tr>\n",
       "      <th>111</th>\n",
       "      <td>4</td>\n",
       "      <td>4590000</td>\n",
       "      <td>40.0</td>\n",
       "      <td>2017-05-29T00:00:00</td>\n",
       "      <td>1</td>\n",
       "      <td>2.65</td>\n",
       "      <td>6</td>\n",
       "      <td>18.0</td>\n",
       "      <td>1</td>\n",
       "      <td>True</td>\n",
       "      <td>...</td>\n",
       "      <td>114750.000000</td>\n",
       "      <td>первый</td>\n",
       "      <td>2017-05-29</td>\n",
       "      <td>0</td>\n",
       "      <td>0.450</td>\n",
       "      <td>0.250</td>\n",
       "      <td>1</td>\n",
       "      <td>2017</td>\n",
       "      <td>5</td>\n",
       "      <td>6</td>\n",
       "    </tr>\n",
       "    <tr>\n",
       "      <th>114</th>\n",
       "      <td>5</td>\n",
       "      <td>4000000</td>\n",
       "      <td>21.4</td>\n",
       "      <td>2019-02-07T00:00:00</td>\n",
       "      <td>1</td>\n",
       "      <td>2.90</td>\n",
       "      <td>8</td>\n",
       "      <td>8.3</td>\n",
       "      <td>7</td>\n",
       "      <td>True</td>\n",
       "      <td>...</td>\n",
       "      <td>186915.887850</td>\n",
       "      <td>другой</td>\n",
       "      <td>2019-02-07</td>\n",
       "      <td>3</td>\n",
       "      <td>0.388</td>\n",
       "      <td>0.294</td>\n",
       "      <td>2</td>\n",
       "      <td>2019</td>\n",
       "      <td>2</td>\n",
       "      <td>6</td>\n",
       "    </tr>\n",
       "  </tbody>\n",
       "</table>\n",
       "<p>5 rows × 33 columns</p>\n",
       "</div>"
      ],
      "text/plain": [
       "     total_images  last_price  total_area first_day_exposition  rooms  \\\n",
       "24              8     6500000        97.2  2015-10-31T00:00:00      2   \n",
       "94              3     3500000        29.5  2019-04-26T00:00:00      1   \n",
       "99             32     9600000        90.0  2017-09-26T00:00:00      4   \n",
       "111             4     4590000        40.0  2017-05-29T00:00:00      1   \n",
       "114             5     4000000        21.4  2019-02-07T00:00:00      1   \n",
       "\n",
       "     ceiling_height  floors_total  living_area  floor  is_apartment  ...  \\\n",
       "24             2.65             3         46.5      1          True  ...   \n",
       "94             2.50             5         15.6      2          True  ...   \n",
       "99             2.65             5         67.0      2          True  ...   \n",
       "111            2.65             6         18.0      1          True  ...   \n",
       "114            2.90             8          8.3      7          True  ...   \n",
       "\n",
       "     price_for_meter  floor_name       date  weekday ratio_living_area  \\\n",
       "24      66872.427984      первый 2015-10-31        5             0.478   \n",
       "94     118644.067797      другой 2019-04-26        4             0.529   \n",
       "99     106666.666667      другой 2017-09-26        1             0.744   \n",
       "111    114750.000000      первый 2017-05-29        0             0.450   \n",
       "114    186915.887850      другой 2019-02-07        3             0.388   \n",
       "\n",
       "     ratio_kitchen_area  floor_name_number  year  month  distance_to_center_km  \n",
       "24                0.202                  1  2015     10                      2  \n",
       "94                0.186                  2  2019      4                      7  \n",
       "99                0.089                  2  2017      9                      3  \n",
       "111               0.250                  1  2017      5                      6  \n",
       "114               0.294                  2  2019      2                      6  \n",
       "\n",
       "[5 rows x 33 columns]"
      ]
     },
     "execution_count": 36,
     "metadata": {},
     "output_type": "execute_result"
    }
   ],
   "source": [
    "df_SPB_center=df_SPB.query('distance_to_center_km<=7')\n",
    "df_SPB_center.head()\n"
   ]
  },
  {
   "cell_type": "code",
   "execution_count": 37,
   "metadata": {},
   "outputs": [
    {
     "name": "stdout",
     "output_type": "stream",
     "text": [
      "[[<AxesSubplot:title={'center':'total_area'}>]]\n",
      "Средняя площадь квартиры в центре Санкт-Петербурга: 72.94\n",
      "Медианная площадь квартиры в центре Санкт-Петербурга: 67.5\n"
     ]
    },
    {
     "data": {
      "image/png": "[encoded data removed]",
      "text/plain": [
       "<Figure size 1152x360 with 1 Axes>"
      ]
     },
     "metadata": {
      "needs_background": "light"
     },
     "output_type": "display_data"
    }
   ],
   "source": [
    "print(df_SPB_center.hist('total_area',bins=50,range=(0,600),figsize=(16,5)))\n",
    "print('Средняя площадь квартиры в центре Санкт-Петербурга:',round(df_SPB_center['total_area'].mean(),2))\n",
    "print('Медианная площадь квартиры в центре Санкт-Петербурга:',round(df_SPB_center['total_area'].median(),2))\n"
   ]
  },
  {
   "cell_type": "markdown",
   "metadata": {},
   "source": [
    "<div class=\"alert alert-info\">\n",
    "<font color='Blue'>\n",
    "\n",
    "   <b>Средняя площадь квартир в центре 81 кв.м выше средней площади квартир по всей базе 58 кв.м. Таким образом в центре квартиры имеют площадь больше."
   ]
  },
  {
   "cell_type": "code",
   "execution_count": 38,
   "metadata": {},
   "outputs": [
    {
     "name": "stdout",
     "output_type": "stream",
     "text": [
      "[[<AxesSubplot:title={'center':'last_price'}>]]\n",
      "Средняя цена квартиры в центре Санкт-Петербурга: 9213543.99\n",
      "Медианная цена квартиры в центре Санкт-Петербурга: 7900000.0\n"
     ]
    },
    {
     "data": {
      "image/png": "[encoded data removed]",
      "text/plain": [
       "<Figure size 1152x360 with 1 Axes>"
      ]
     },
     "metadata": {
      "needs_background": "light"
     },
     "output_type": "display_data"
    }
   ],
   "source": [
    "print(df_SPB_center.hist('last_price',bins=50,range=(0,50000000),figsize=(16,5)))\n",
    "print('Средняя цена квартиры в центре Санкт-Петербурга:',round(df_SPB_center['last_price'].mean(),2))\n",
    "print('Медианная цена квартиры в центре Санкт-Петербурга:',round(df_SPB_center['last_price'].median(),2))\n"
   ]
  },
  {
   "cell_type": "markdown",
   "metadata": {},
   "source": [
    "<div class=\"alert alert-info\">\n",
    "<font color='Blue'>\n",
    "\n",
    "   <b>Средняя цена квартиры в центре 10 миллионов, а по всей базе средняя цена 5,6 миллиона. Таким образом в центре квартиры стоят дороже. "
   ]
  },
  {
   "cell_type": "code",
   "execution_count": 39,
   "metadata": {},
   "outputs": [
    {
     "name": "stdout",
     "output_type": "stream",
     "text": [
      "[[<AxesSubplot:title={'center':'rooms'}>]]\n",
      "Средняя количество комнат в центре Санкт-Петербурга: 2.43\n",
      "Медианная количество комнат в центре Санкт-Петербурга: 2.0\n"
     ]
    },
    {
     "data": {
      "image/png": "[encoded data removed]",
      "text/plain": [
       "<Figure size 1152x360 with 1 Axes>"
      ]
     },
     "metadata": {
      "needs_background": "light"
     },
     "output_type": "display_data"
    }
   ],
   "source": [
    "print(df_SPB_center.hist('rooms',bins=50,range=(0,10),figsize=(16,5)))\n",
    "print('Средняя количество комнат в центре Санкт-Петербурга:',round(df_SPB_center['rooms'].mean(),2))\n",
    "print('Медианная количество комнат в центре Санкт-Петербурга:',round(df_SPB_center['rooms'].median(),2))"
   ]
  },
  {
   "cell_type": "markdown",
   "metadata": {},
   "source": [
    "<div class=\"alert alert-info\">\n",
    "<font color='Blue'>\n",
    "\n",
    "   <b>Среднее количество комнат в центре почти 3, а вобщей базе 2. Можно сделать вывод что в центре квартиры имеют большее количество комнат."
   ]
  },
  {
   "cell_type": "code",
   "execution_count": 40,
   "metadata": {},
   "outputs": [
    {
     "name": "stdout",
     "output_type": "stream",
     "text": [
      "[[<AxesSubplot:title={'center':'ceiling_height'}>]]\n",
      "Средняя высота потолков в центре Санкт-Петербурга: 2.68\n",
      "Медианная высота потолков в центре Санкт-Петербурга: 2.65\n"
     ]
    },
    {
     "data": {
      "image/png": "[encoded data removed]",
      "text/plain": [
       "<Figure size 1152x360 with 1 Axes>"
      ]
     },
     "metadata": {
      "needs_background": "light"
     },
     "output_type": "display_data"
    }
   ],
   "source": [
    "print(df_SPB_center.hist('ceiling_height',bins=100,range=(2,5),figsize=(16,5)))\n",
    "print('Средняя высота потолков в центре Санкт-Петербурга:',round(df_SPB_center['ceiling_height'].mean(),2))\n",
    "print('Медианная высота потолков в центре Санкт-Петербурга:',round(df_SPB_center['ceiling_height'].median(),2))\n",
    "\n",
    "\n"
   ]
  },
  {
   "cell_type": "markdown",
   "metadata": {},
   "source": [
    "<div class=\"alert alert-info\">\n",
    "<font color='Blue'>\n",
    "\n",
    "   <b>Средняя высота потолков в центре 2.93, а по всей базе данных 2,71. В центре высота потолков выше."
   ]
  },
  {
   "cell_type": "code",
   "execution_count": 41,
   "metadata": {},
   "outputs": [
    {
     "name": "stdout",
     "output_type": "stream",
     "text": [
      "Коэффициент корреляции между ценой и площадью: 0.7322796720728958\n",
      "Коэффициент корреляции между ценой и количеством комнат: 0.44480230296333906\n",
      "Коэффициент корреляции между ценой и расстоянием до центра: -0.06544311015390417\n",
      "Коэффициент корреляции между ценой и этажом(первый, последний или другой): 0.0957317976740264\n",
      "Коэффициент корреляции между ценой и дней до продажи: 0.10112738575080191\n"
     ]
    }
   ],
   "source": [
    "print('Коэффициент корреляции между ценой и площадью:',df_SPB_center['last_price'].corr(df['total_area']))\n",
    "print('Коэффициент корреляции между ценой и количеством комнат:',df_SPB_center['last_price'].corr(df['rooms']))\n",
    "print('Коэффициент корреляции между ценой и расстоянием до центра:',df_SPB_center['last_price'].corr(df['cityCenters_nearest']))\n",
    "print('Коэффициент корреляции между ценой и этажом(первый, последний или другой):',df_SPB_center['last_price'].corr(df['floor_name_number']))\n",
    "print('Коэффициент корреляции между ценой и дней до продажи:',df['last_price'].corr(df_SPB_center['days_exposition']))\n",
    "\n"
   ]
  },
  {
   "cell_type": "markdown",
   "metadata": {},
   "source": [
    "<div class=\"alert alert-info\">\n",
    "<font color='Blue'>\n",
    "\n",
    "   <b>На стоимость квартиры сильнее всего влияет площадь и количество комнат. \n",
    "    <p>Количество этажей и время размещения объявления влияет меньше.\n",
    "        <p> В основном данные по корреляции в центре совпадают с данными из общей базы, кроме расстояния до центра."
   ]
  },
  {
   "cell_type": "markdown",
   "metadata": {},
   "source": [
    "## Общий вывод"
   ]
  },
  {
   "cell_type": "markdown",
   "metadata": {},
   "source": [
    "<div class=\"alert alert-info\">\n",
    "<font color='Blue'>\n",
    "\n",
    "   <b>На основе проведённого анализа можно сделать следующий вывод: Стоимость квартир сильно зависит от площади квартиры, от количества комнат и от близости к центру. Цена выше чем больше площадь, чем больше комнат и чем ближе к центру. \n",
    "    <p>Количество этажей и время размещения объявления влияет на стоимость квартиры не значительно.\n",
    "        <p> Так же можно сделать вывод что квартиры в центре дороже, имеют большее количество комнат, выше потолки и имеют площадь в среднем больше чем квартиры из общей базы."
   ]
  },
  {
   "cell_type": "markdown",
   "metadata": {},
   "source": [
    "## Чек-лист готовности проекта\n",
    "\n",
    "Поставьте 'x' в выполненных пунктах. Далее нажмите Shift+Enter."
   ]
  },
  {
   "cell_type": "markdown",
   "metadata": {},
   "source": [
    "- [x]  открыт файл\n",
    "- [x]  файлы изучены (выведены первые строки, метод `info()`)\n",
    "- [x]  определены пропущенные значения\n",
    "- [x]  заполнены пропущенные значения\n",
    "- [x]  есть пояснение, какие пропущенные значения обнаружены\n",
    "- [x]  изменены типы данных\n",
    "- [x]  есть пояснение, в каких столбцах изменены типы и почему\n",
    "- [x]  посчитано и добавлено в таблицу: цена квадратного метра\n",
    "- [x]  посчитано и добавлено в таблицу: день недели, месяц и год публикации объявления\n",
    "- [x]  посчитано и добавлено в таблицу: этаж квартиры; варианты — первый, последний, другой\n",
    "- [x]  посчитано и добавлено в таблицу: соотношение жилой и общей площади, а также отношение площади кухни к общей\n",
    "- [x]  изучены следующие параметры: площадь, цена, число комнат, высота потолков\n",
    "- [x]  построены гистограммы для каждого параметра\n",
    "- [x]  выполнено задание: «Изучите время продажи квартиры. Постройте гистограмму. Посчитайте среднее и медиану. Опишите, сколько обычно занимает продажа. Когда можно считать, что продажи прошли очень быстро, а когда необычно долго?»\n",
    "- [x]  выполнено задание: «Уберите редкие и выбивающиеся значения. Опишите, какие особенности обнаружили».\n",
    "- [x]  выполнено задание: «Какие факторы больше всего влияют на стоимость квартиры? Изучите, зависит ли цена от квадратного метра, числа комнат, этажа (первого или последнего), удалённости от центра. Также изучите зависимость от даты размещения: дня недели, месяца и года». \n",
    "- [x]  выполнено задание: «Выберите 10 населённых пунктов с наибольшим числом объявлений. Посчитайте среднюю цену квадратного метра в этих населённых пунктах. Выделите населённые пункты с самой высокой и низкой стоимостью жилья. Эти данные можно найти по имени в столбце `locality_name`».\n",
    "- [x]  выполнено задание: «Изучите предложения квартир: для каждой квартиры есть информация о расстоянии до центра. Выделите квартиры в Санкт-Петербурге (`locality_name`). Ваша задача — выяснить, какая область входит в центр. Создайте столбец с расстоянием до центра в километрах: округлите до целых значений. После этого посчитайте среднюю цену для каждого километра. Постройте график: он должен показывать, как цена зависит от удалённости от центра. Определите границу, где график сильно меняется — это и будет центральная зона».\n",
    "- [x]  выполнено задание: «Выделите сегмент квартир в центре. Проанализируйте эту территорию и изучите следующие параметры: площадь, цена, число комнат, высота потолков. Также выделите факторы, которые влияют на стоимость квартиры (число комнат, этаж, удалённость от центра, дата размещения объявления). Сделайте выводы. Отличаются ли они от общих выводов по всей базе?»\n",
    "- [x]  в каждом этапе есть выводы\n",
    "- [x]  есть общий вывод"
   ]
  },
  {
   "cell_type": "code",
   "execution_count": null,
   "metadata": {},
   "outputs": [],
   "source": []
  },
  {
   "cell_type": "code",
   "execution_count": null,
   "metadata": {},
   "outputs": [],
   "source": []
  }
 ],
 "metadata": {
  "ExecuteTimeLog": [
   {
    "duration": 564,
    "start_time": "2022-04-26T09:47:23.292Z"
   },
   {
    "duration": 0,
    "start_time": "2022-04-26T09:47:23.858Z"
   },
   {
    "duration": 0,
    "start_time": "2022-04-26T09:47:23.859Z"
   },
   {
    "duration": 0,
    "start_time": "2022-04-26T09:47:23.860Z"
   },
   {
    "duration": 0,
    "start_time": "2022-04-26T09:47:23.861Z"
   },
   {
    "duration": 0,
    "start_time": "2022-04-26T09:47:23.862Z"
   },
   {
    "duration": 0,
    "start_time": "2022-04-26T09:47:23.863Z"
   },
   {
    "duration": 0,
    "start_time": "2022-04-26T09:47:23.864Z"
   },
   {
    "duration": 0,
    "start_time": "2022-04-26T09:47:23.864Z"
   },
   {
    "duration": 0,
    "start_time": "2022-04-26T09:47:23.865Z"
   },
   {
    "duration": 0,
    "start_time": "2022-04-26T09:47:23.866Z"
   },
   {
    "duration": 0,
    "start_time": "2022-04-26T09:47:23.867Z"
   },
   {
    "duration": 0,
    "start_time": "2022-04-26T09:47:23.868Z"
   },
   {
    "duration": 0,
    "start_time": "2022-04-26T09:47:23.869Z"
   },
   {
    "duration": 0,
    "start_time": "2022-04-26T09:47:23.870Z"
   },
   {
    "duration": 0,
    "start_time": "2022-04-26T09:47:23.870Z"
   },
   {
    "duration": 0,
    "start_time": "2022-04-26T09:47:23.871Z"
   },
   {
    "duration": 0,
    "start_time": "2022-04-26T09:47:23.872Z"
   },
   {
    "duration": 0,
    "start_time": "2022-04-26T09:47:23.874Z"
   },
   {
    "duration": 0,
    "start_time": "2022-04-26T09:47:23.875Z"
   },
   {
    "duration": 0,
    "start_time": "2022-04-26T09:47:23.876Z"
   },
   {
    "duration": 0,
    "start_time": "2022-04-26T09:47:23.877Z"
   },
   {
    "duration": 0,
    "start_time": "2022-04-26T09:47:23.879Z"
   },
   {
    "duration": 0,
    "start_time": "2022-04-26T09:47:23.880Z"
   },
   {
    "duration": 0,
    "start_time": "2022-04-26T09:47:23.881Z"
   },
   {
    "duration": 0,
    "start_time": "2022-04-26T09:47:23.882Z"
   },
   {
    "duration": 0,
    "start_time": "2022-04-26T09:47:23.884Z"
   },
   {
    "duration": 0,
    "start_time": "2022-04-26T09:47:23.885Z"
   },
   {
    "duration": 0,
    "start_time": "2022-04-26T09:47:23.886Z"
   },
   {
    "duration": 0,
    "start_time": "2022-04-26T09:47:23.926Z"
   },
   {
    "duration": 477,
    "start_time": "2022-04-26T09:48:58.456Z"
   },
   {
    "duration": 23,
    "start_time": "2022-04-26T09:48:58.936Z"
   },
   {
    "duration": 73,
    "start_time": "2022-04-26T09:48:58.960Z"
   },
   {
    "duration": 69,
    "start_time": "2022-04-26T09:48:59.035Z"
   },
   {
    "duration": 63,
    "start_time": "2022-04-26T09:48:59.107Z"
   },
   {
    "duration": 59,
    "start_time": "2022-04-26T09:48:59.172Z"
   },
   {
    "duration": 7,
    "start_time": "2022-04-26T09:48:59.234Z"
   },
   {
    "duration": 32,
    "start_time": "2022-04-26T09:48:59.243Z"
   },
   {
    "duration": 1439,
    "start_time": "2022-04-26T09:48:59.277Z"
   },
   {
    "duration": 51,
    "start_time": "2022-04-26T09:49:00.724Z"
   },
   {
    "duration": 670,
    "start_time": "2022-04-26T09:49:00.777Z"
   },
   {
    "duration": 229,
    "start_time": "2022-04-26T09:49:01.449Z"
   },
   {
    "duration": 187,
    "start_time": "2022-04-26T09:49:01.680Z"
   },
   {
    "duration": 291,
    "start_time": "2022-04-26T09:49:01.869Z"
   },
   {
    "duration": 365,
    "start_time": "2022-04-26T09:49:02.162Z"
   },
   {
    "duration": 11,
    "start_time": "2022-04-26T09:49:02.529Z"
   },
   {
    "duration": 203,
    "start_time": "2022-04-26T09:49:02.542Z"
   },
   {
    "duration": 107,
    "start_time": "2022-04-26T09:49:02.747Z"
   },
   {
    "duration": 260,
    "start_time": "2022-04-26T09:49:02.856Z"
   },
   {
    "duration": 226,
    "start_time": "2022-04-26T09:49:03.118Z"
   },
   {
    "duration": 8,
    "start_time": "2022-04-26T09:49:03.346Z"
   },
   {
    "duration": 49,
    "start_time": "2022-04-26T09:49:03.356Z"
   },
   {
    "duration": 261,
    "start_time": "2022-04-26T09:49:03.424Z"
   },
   {
    "duration": 210,
    "start_time": "2022-04-26T09:49:03.687Z"
   },
   {
    "duration": 47,
    "start_time": "2022-04-26T09:49:03.899Z"
   },
   {
    "duration": 225,
    "start_time": "2022-04-26T09:49:03.948Z"
   },
   {
    "duration": 303,
    "start_time": "2022-04-26T09:49:04.175Z"
   },
   {
    "duration": 384,
    "start_time": "2022-04-26T09:49:04.482Z"
   },
   {
    "duration": 280,
    "start_time": "2022-04-26T09:49:04.869Z"
   },
   {
    "duration": 13,
    "start_time": "2022-04-26T09:49:05.152Z"
   },
   {
    "duration": 465,
    "start_time": "2022-04-26T10:31:44.138Z"
   },
   {
    "duration": 27,
    "start_time": "2022-04-26T10:31:44.605Z"
   },
   {
    "duration": 66,
    "start_time": "2022-04-26T10:31:44.634Z"
   },
   {
    "duration": 61,
    "start_time": "2022-04-26T10:31:44.703Z"
   },
   {
    "duration": 59,
    "start_time": "2022-04-26T10:31:44.766Z"
   },
   {
    "duration": 36,
    "start_time": "2022-04-26T10:31:44.827Z"
   },
   {
    "duration": 5,
    "start_time": "2022-04-26T10:31:44.864Z"
   },
   {
    "duration": 63,
    "start_time": "2022-04-26T10:31:44.870Z"
   },
   {
    "duration": 1270,
    "start_time": "2022-04-26T10:31:44.936Z"
   },
   {
    "duration": 56,
    "start_time": "2022-04-26T10:31:46.207Z"
   },
   {
    "duration": 548,
    "start_time": "2022-04-26T10:31:46.264Z"
   },
   {
    "duration": 211,
    "start_time": "2022-04-26T10:31:46.814Z"
   },
   {
    "duration": 172,
    "start_time": "2022-04-26T10:31:47.027Z"
   },
   {
    "duration": 254,
    "start_time": "2022-04-26T10:31:47.201Z"
   },
   {
    "duration": 319,
    "start_time": "2022-04-26T10:31:47.458Z"
   },
   {
    "duration": 8,
    "start_time": "2022-04-26T10:31:47.779Z"
   },
   {
    "duration": 131,
    "start_time": "2022-04-26T10:31:47.789Z"
   },
   {
    "duration": 101,
    "start_time": "2022-04-26T10:31:47.924Z"
   },
   {
    "duration": 237,
    "start_time": "2022-04-26T10:31:48.026Z"
   },
   {
    "duration": 216,
    "start_time": "2022-04-26T10:31:48.265Z"
   },
   {
    "duration": 8,
    "start_time": "2022-04-26T10:31:48.483Z"
   },
   {
    "duration": 60,
    "start_time": "2022-04-26T10:31:48.493Z"
   },
   {
    "duration": 270,
    "start_time": "2022-04-26T10:31:48.554Z"
   },
   {
    "duration": 222,
    "start_time": "2022-04-26T10:31:48.827Z"
   },
   {
    "duration": 38,
    "start_time": "2022-04-26T10:31:49.051Z"
   },
   {
    "duration": 318,
    "start_time": "2022-04-26T10:31:49.090Z"
   },
   {
    "duration": 305,
    "start_time": "2022-04-26T10:31:49.410Z"
   },
   {
    "duration": 372,
    "start_time": "2022-04-26T10:31:49.724Z"
   },
   {
    "duration": 381,
    "start_time": "2022-04-26T10:31:50.098Z"
   },
   {
    "duration": 16,
    "start_time": "2022-04-26T10:31:50.481Z"
   },
   {
    "duration": 481,
    "start_time": "2022-04-26T10:41:42.424Z"
   },
   {
    "duration": 24,
    "start_time": "2022-04-26T10:41:42.907Z"
   },
   {
    "duration": 54,
    "start_time": "2022-04-26T10:41:42.933Z"
   },
   {
    "duration": 67,
    "start_time": "2022-04-26T10:41:42.990Z"
   },
   {
    "duration": 43,
    "start_time": "2022-04-26T10:41:43.059Z"
   },
   {
    "duration": 28,
    "start_time": "2022-04-26T10:41:43.123Z"
   },
   {
    "duration": 5,
    "start_time": "2022-04-26T10:41:43.153Z"
   },
   {
    "duration": 29,
    "start_time": "2022-04-26T10:41:43.160Z"
   },
   {
    "duration": 1279,
    "start_time": "2022-04-26T10:41:43.192Z"
   },
   {
    "duration": 52,
    "start_time": "2022-04-26T10:41:44.473Z"
   },
   {
    "duration": 798,
    "start_time": "2022-04-26T10:41:44.526Z"
   },
   {
    "duration": 345,
    "start_time": "2022-04-26T10:41:45.325Z"
   },
   {
    "duration": 323,
    "start_time": "2022-04-26T10:41:45.723Z"
   },
   {
    "duration": 495,
    "start_time": "2022-04-26T10:41:46.048Z"
   },
   {
    "duration": 308,
    "start_time": "2022-04-26T10:41:46.545Z"
   },
   {
    "duration": 8,
    "start_time": "2022-04-26T10:41:46.855Z"
   },
   {
    "duration": 130,
    "start_time": "2022-04-26T10:41:46.865Z"
   },
   {
    "duration": 105,
    "start_time": "2022-04-26T10:41:46.997Z"
   },
   {
    "duration": 249,
    "start_time": "2022-04-26T10:41:47.104Z"
   },
   {
    "duration": 195,
    "start_time": "2022-04-26T10:41:47.355Z"
   },
   {
    "duration": 7,
    "start_time": "2022-04-26T10:41:47.552Z"
   },
   {
    "duration": 41,
    "start_time": "2022-04-26T10:41:47.561Z"
   },
   {
    "duration": 210,
    "start_time": "2022-04-26T10:41:47.604Z"
   },
   {
    "duration": 153,
    "start_time": "2022-04-26T10:41:47.824Z"
   },
   {
    "duration": 25,
    "start_time": "2022-04-26T10:41:47.978Z"
   },
   {
    "duration": 204,
    "start_time": "2022-04-26T10:41:48.005Z"
   },
   {
    "duration": 200,
    "start_time": "2022-04-26T10:41:48.210Z"
   },
   {
    "duration": 246,
    "start_time": "2022-04-26T10:41:48.413Z"
   },
   {
    "duration": 240,
    "start_time": "2022-04-26T10:41:48.660Z"
   },
   {
    "duration": 23,
    "start_time": "2022-04-26T10:41:48.902Z"
   },
   {
    "duration": 122,
    "start_time": "2022-04-27T14:08:16.464Z"
   },
   {
    "duration": 795,
    "start_time": "2022-04-27T14:08:25.730Z"
   },
   {
    "duration": 49,
    "start_time": "2022-04-27T14:08:26.854Z"
   },
   {
    "duration": 135,
    "start_time": "2022-04-27T14:08:29.028Z"
   },
   {
    "duration": 90,
    "start_time": "2022-04-27T14:08:31.057Z"
   },
   {
    "duration": 62,
    "start_time": "2022-04-27T14:08:31.917Z"
   },
   {
    "duration": 13,
    "start_time": "2022-04-27T14:11:24.371Z"
   },
   {
    "duration": 48,
    "start_time": "2022-04-27T14:11:29.319Z"
   },
   {
    "duration": 30,
    "start_time": "2022-04-27T14:11:35.803Z"
   },
   {
    "duration": 133,
    "start_time": "2022-04-27T14:20:18.903Z"
   },
   {
    "duration": 127,
    "start_time": "2022-04-27T14:21:36.112Z"
   },
   {
    "duration": 29,
    "start_time": "2022-04-27T14:21:36.659Z"
   },
   {
    "duration": 131,
    "start_time": "2022-04-27T14:21:37.851Z"
   },
   {
    "duration": 113,
    "start_time": "2022-04-27T14:21:38.941Z"
   },
   {
    "duration": 28,
    "start_time": "2022-04-27T14:21:41.321Z"
   },
   {
    "duration": 108,
    "start_time": "2022-04-27T14:21:41.909Z"
   },
   {
    "duration": 29,
    "start_time": "2022-04-27T14:21:42.648Z"
   },
   {
    "duration": 7,
    "start_time": "2022-04-27T14:21:43.210Z"
   },
   {
    "duration": 481,
    "start_time": "2022-04-27T14:24:13.669Z"
   },
   {
    "duration": 454,
    "start_time": "2022-04-27T14:24:14.205Z"
   },
   {
    "duration": 1595,
    "start_time": "2022-04-27T14:24:15.550Z"
   },
   {
    "duration": 50,
    "start_time": "2022-04-27T14:24:17.149Z"
   },
   {
    "duration": 63,
    "start_time": "2022-04-27T14:24:27.276Z"
   },
   {
    "duration": 13,
    "start_time": "2022-04-27T14:29:14.026Z"
   },
   {
    "duration": 14,
    "start_time": "2022-04-27T14:29:19.110Z"
   },
   {
    "duration": 21,
    "start_time": "2022-04-27T14:29:19.470Z"
   },
   {
    "duration": 13,
    "start_time": "2022-04-27T14:29:19.829Z"
   },
   {
    "duration": 13,
    "start_time": "2022-04-27T14:29:20.058Z"
   },
   {
    "duration": 1050,
    "start_time": "2022-04-27T14:29:20.506Z"
   },
   {
    "duration": 241,
    "start_time": "2022-04-27T14:29:21.558Z"
   },
   {
    "duration": 489,
    "start_time": "2022-04-27T14:29:21.803Z"
   },
   {
    "duration": 367,
    "start_time": "2022-04-27T14:29:24.606Z"
   },
   {
    "duration": 339,
    "start_time": "2022-04-27T14:29:50.967Z"
   },
   {
    "duration": 409,
    "start_time": "2022-04-27T14:30:02.511Z"
   },
   {
    "duration": 332,
    "start_time": "2022-04-27T14:30:19.364Z"
   },
   {
    "duration": 326,
    "start_time": "2022-04-27T14:30:27.313Z"
   },
   {
    "duration": 55,
    "start_time": "2022-04-27T14:31:20.702Z"
   },
   {
    "duration": 6,
    "start_time": "2022-04-27T14:36:00.828Z"
   },
   {
    "duration": 36,
    "start_time": "2022-04-27T14:36:08.139Z"
   },
   {
    "duration": 45,
    "start_time": "2022-04-27T14:36:27.877Z"
   },
   {
    "duration": 9,
    "start_time": "2022-04-27T14:37:32.708Z"
   },
   {
    "duration": 6,
    "start_time": "2022-04-27T14:37:40.548Z"
   },
   {
    "duration": 6,
    "start_time": "2022-04-27T14:38:37.665Z"
   },
   {
    "duration": 265,
    "start_time": "2022-04-27T14:38:50.028Z"
   },
   {
    "duration": 257,
    "start_time": "2022-04-27T14:39:05.466Z"
   },
   {
    "duration": 298,
    "start_time": "2022-04-27T14:39:09.659Z"
   },
   {
    "duration": 260,
    "start_time": "2022-04-27T14:39:39.176Z"
   },
   {
    "duration": 231,
    "start_time": "2022-04-27T14:40:09.441Z"
   },
   {
    "duration": 338,
    "start_time": "2022-04-27T14:40:24.169Z"
   },
   {
    "duration": 217,
    "start_time": "2022-04-27T14:41:13.114Z"
   },
   {
    "duration": 220,
    "start_time": "2022-04-27T14:41:18.735Z"
   },
   {
    "duration": 227,
    "start_time": "2022-04-27T14:41:22.598Z"
   },
   {
    "duration": 270,
    "start_time": "2022-04-27T14:41:39.426Z"
   },
   {
    "duration": 260,
    "start_time": "2022-04-27T14:42:27.792Z"
   },
   {
    "duration": 279,
    "start_time": "2022-04-27T14:42:35.073Z"
   },
   {
    "duration": 277,
    "start_time": "2022-04-27T14:43:00.294Z"
   },
   {
    "duration": 297,
    "start_time": "2022-04-27T14:43:05.540Z"
   },
   {
    "duration": 60,
    "start_time": "2022-04-27T14:45:19.541Z"
   },
   {
    "duration": 120,
    "start_time": "2022-04-27T14:45:25.556Z"
   },
   {
    "duration": 29,
    "start_time": "2022-04-27T14:45:25.690Z"
   },
   {
    "duration": 73,
    "start_time": "2022-04-27T14:45:25.853Z"
   },
   {
    "duration": 73,
    "start_time": "2022-04-27T14:45:25.997Z"
   },
   {
    "duration": 27,
    "start_time": "2022-04-27T14:45:26.096Z"
   },
   {
    "duration": 62,
    "start_time": "2022-04-27T14:45:26.156Z"
   },
   {
    "duration": 33,
    "start_time": "2022-04-27T14:45:26.274Z"
   },
   {
    "duration": 6,
    "start_time": "2022-04-27T14:45:26.320Z"
   },
   {
    "duration": 43,
    "start_time": "2022-04-27T14:45:26.384Z"
   },
   {
    "duration": 365,
    "start_time": "2022-04-27T14:45:26.516Z"
   },
   {
    "duration": 382,
    "start_time": "2022-04-27T14:45:26.884Z"
   },
   {
    "duration": 1141,
    "start_time": "2022-04-27T14:45:27.268Z"
   },
   {
    "duration": 23,
    "start_time": "2022-04-27T14:45:28.412Z"
   },
   {
    "duration": 65,
    "start_time": "2022-04-27T14:45:28.437Z"
   },
   {
    "duration": 530,
    "start_time": "2022-04-27T14:45:28.505Z"
   },
   {
    "duration": 378,
    "start_time": "2022-04-27T14:45:29.037Z"
   },
   {
    "duration": 299,
    "start_time": "2022-04-27T14:45:29.417Z"
   },
   {
    "duration": 466,
    "start_time": "2022-04-27T14:45:29.718Z"
   },
   {
    "duration": 737,
    "start_time": "2022-04-27T14:45:30.188Z"
   },
   {
    "duration": 18,
    "start_time": "2022-04-27T14:45:30.928Z"
   },
   {
    "duration": 42,
    "start_time": "2022-04-27T14:45:30.949Z"
   },
   {
    "duration": 18,
    "start_time": "2022-04-27T14:45:30.994Z"
   },
   {
    "duration": 34,
    "start_time": "2022-04-27T14:45:31.015Z"
   },
   {
    "duration": 211,
    "start_time": "2022-04-27T14:45:31.053Z"
   },
   {
    "duration": 177,
    "start_time": "2022-04-27T14:45:31.267Z"
   },
   {
    "duration": 435,
    "start_time": "2022-04-27T14:45:31.447Z"
   },
   {
    "duration": 522,
    "start_time": "2022-04-27T14:45:31.884Z"
   },
   {
    "duration": 45,
    "start_time": "2022-04-27T14:45:32.409Z"
   },
   {
    "duration": 408,
    "start_time": "2022-04-27T14:45:32.456Z"
   },
   {
    "duration": 460,
    "start_time": "2022-04-27T14:45:32.866Z"
   },
   {
    "duration": 300,
    "start_time": "2022-04-27T14:45:33.329Z"
   },
   {
    "duration": 13,
    "start_time": "2022-04-27T14:45:33.632Z"
   },
   {
    "duration": 86,
    "start_time": "2022-04-27T14:45:33.648Z"
   },
   {
    "duration": 316,
    "start_time": "2022-04-27T14:45:33.737Z"
   },
   {
    "duration": 301,
    "start_time": "2022-04-27T14:45:34.055Z"
   },
   {
    "duration": 45,
    "start_time": "2022-04-27T14:45:34.359Z"
   },
   {
    "duration": 548,
    "start_time": "2022-04-27T14:45:34.409Z"
   },
   {
    "duration": 416,
    "start_time": "2022-04-27T14:45:34.960Z"
   },
   {
    "duration": 336,
    "start_time": "2022-04-27T14:45:35.382Z"
   },
   {
    "duration": 446,
    "start_time": "2022-04-27T14:45:35.721Z"
   },
   {
    "duration": 27,
    "start_time": "2022-04-27T14:45:36.170Z"
   },
   {
    "duration": 303,
    "start_time": "2022-04-27T14:46:22.686Z"
   },
   {
    "duration": 121,
    "start_time": "2022-04-27T14:55:10.231Z"
   },
   {
    "duration": 116,
    "start_time": "2022-04-27T14:56:35.692Z"
   },
   {
    "duration": 103,
    "start_time": "2022-04-27T14:58:03.491Z"
   },
   {
    "duration": 113,
    "start_time": "2022-04-27T15:00:03.683Z"
   },
   {
    "duration": 111,
    "start_time": "2022-04-27T15:00:40.056Z"
   },
   {
    "duration": 1154,
    "start_time": "2022-04-27T15:01:26.299Z"
   },
   {
    "duration": 1861,
    "start_time": "2022-04-27T15:01:41.814Z"
   },
   {
    "duration": 2020,
    "start_time": "2022-04-27T15:01:48.501Z"
   },
   {
    "duration": 2208,
    "start_time": "2022-04-27T15:02:11.863Z"
   },
   {
    "duration": 2017,
    "start_time": "2022-04-27T15:02:29.659Z"
   },
   {
    "duration": 110,
    "start_time": "2022-04-27T15:03:12.758Z"
   },
   {
    "duration": 33,
    "start_time": "2022-04-27T15:03:13.657Z"
   },
   {
    "duration": 71,
    "start_time": "2022-04-27T15:03:15.029Z"
   },
   {
    "duration": 73,
    "start_time": "2022-04-27T15:03:15.942Z"
   },
   {
    "duration": 37,
    "start_time": "2022-04-27T15:03:16.858Z"
   },
   {
    "duration": 95,
    "start_time": "2022-04-27T15:03:17.788Z"
   },
   {
    "duration": 37,
    "start_time": "2022-04-27T15:03:19.558Z"
   },
   {
    "duration": 7,
    "start_time": "2022-04-27T15:03:20.591Z"
   },
   {
    "duration": 42,
    "start_time": "2022-04-27T15:03:21.664Z"
   },
   {
    "duration": 593,
    "start_time": "2022-04-27T15:03:24.351Z"
   },
   {
    "duration": 562,
    "start_time": "2022-04-27T15:03:24.985Z"
   },
   {
    "duration": 1112,
    "start_time": "2022-04-27T15:03:25.550Z"
   },
   {
    "duration": 25,
    "start_time": "2022-04-27T15:03:26.665Z"
   },
   {
    "duration": 40,
    "start_time": "2022-04-27T15:03:27.331Z"
   },
   {
    "duration": 538,
    "start_time": "2022-04-27T15:03:29.560Z"
   },
   {
    "duration": 355,
    "start_time": "2022-04-27T15:03:30.707Z"
   },
   {
    "duration": 391,
    "start_time": "2022-04-27T15:03:31.082Z"
   },
   {
    "duration": 663,
    "start_time": "2022-04-27T15:03:31.753Z"
   },
   {
    "duration": 455,
    "start_time": "2022-04-27T15:03:32.782Z"
   },
   {
    "duration": 13,
    "start_time": "2022-04-27T15:03:33.478Z"
   },
   {
    "duration": 15,
    "start_time": "2022-04-27T15:03:33.917Z"
   },
   {
    "duration": 19,
    "start_time": "2022-04-27T15:03:34.262Z"
   },
   {
    "duration": 13,
    "start_time": "2022-04-27T15:03:34.561Z"
   },
   {
    "duration": 200,
    "start_time": "2022-04-27T15:03:34.971Z"
   },
   {
    "duration": 158,
    "start_time": "2022-04-27T15:03:35.299Z"
   },
   {
    "duration": 544,
    "start_time": "2022-04-27T15:03:35.570Z"
   },
   {
    "duration": 466,
    "start_time": "2022-04-27T15:03:46.396Z"
   },
   {
    "duration": 57,
    "start_time": "2022-04-27T15:03:52.825Z"
   },
   {
    "duration": 237,
    "start_time": "2022-04-27T15:03:55.740Z"
   },
   {
    "duration": 298,
    "start_time": "2022-04-27T15:03:56.701Z"
   },
   {
    "duration": 348,
    "start_time": "2022-04-27T15:03:57.459Z"
   },
   {
    "duration": 107,
    "start_time": "2022-04-27T15:23:00.521Z"
   },
   {
    "duration": 17,
    "start_time": "2022-04-27T15:25:26.094Z"
   },
   {
    "duration": 109,
    "start_time": "2022-04-27T15:25:37.453Z"
   },
   {
    "duration": 32,
    "start_time": "2022-04-27T15:25:38.172Z"
   },
   {
    "duration": 69,
    "start_time": "2022-04-27T15:25:39.265Z"
   },
   {
    "duration": 74,
    "start_time": "2022-04-27T15:25:39.933Z"
   },
   {
    "duration": 28,
    "start_time": "2022-04-27T15:25:40.446Z"
   },
   {
    "duration": 95,
    "start_time": "2022-04-27T15:25:40.798Z"
   },
   {
    "duration": 47,
    "start_time": "2022-04-27T15:25:41.328Z"
   },
   {
    "duration": 8,
    "start_time": "2022-04-27T15:25:41.682Z"
   },
   {
    "duration": 48,
    "start_time": "2022-04-27T15:25:42.031Z"
   },
   {
    "duration": 365,
    "start_time": "2022-04-27T15:25:42.934Z"
   },
   {
    "duration": 373,
    "start_time": "2022-04-27T15:25:43.301Z"
   },
   {
    "duration": 1055,
    "start_time": "2022-04-27T15:25:43.676Z"
   },
   {
    "duration": 23,
    "start_time": "2022-04-27T15:25:44.734Z"
   },
   {
    "duration": 52,
    "start_time": "2022-04-27T15:25:44.759Z"
   },
   {
    "duration": 467,
    "start_time": "2022-04-27T15:25:44.813Z"
   },
   {
    "duration": 489,
    "start_time": "2022-04-27T15:25:45.283Z"
   },
   {
    "duration": 432,
    "start_time": "2022-04-27T15:25:45.782Z"
   },
   {
    "duration": 453,
    "start_time": "2022-04-27T15:25:46.217Z"
   },
   {
    "duration": 520,
    "start_time": "2022-04-27T15:25:46.672Z"
   },
   {
    "duration": 13,
    "start_time": "2022-04-27T15:25:47.195Z"
   },
   {
    "duration": 18,
    "start_time": "2022-04-27T15:25:47.210Z"
   },
   {
    "duration": 20,
    "start_time": "2022-04-27T15:25:47.230Z"
   },
   {
    "duration": 41,
    "start_time": "2022-04-27T15:25:47.252Z"
   },
   {
    "duration": 211,
    "start_time": "2022-04-27T15:25:47.295Z"
   },
   {
    "duration": 171,
    "start_time": "2022-04-27T15:25:47.510Z"
   },
   {
    "duration": 531,
    "start_time": "2022-04-27T15:25:47.684Z"
   },
   {
    "duration": 284,
    "start_time": "2022-04-27T15:25:48.327Z"
   },
   {
    "duration": 40,
    "start_time": "2022-04-27T15:25:49.376Z"
   },
   {
    "duration": 352,
    "start_time": "2022-04-27T15:25:49.551Z"
   },
   {
    "duration": 465,
    "start_time": "2022-04-27T15:25:49.907Z"
   },
   {
    "duration": 373,
    "start_time": "2022-04-27T15:25:50.376Z"
   },
   {
    "duration": 29,
    "start_time": "2022-04-27T15:25:50.753Z"
   },
   {
    "duration": 63,
    "start_time": "2022-04-27T15:25:50.789Z"
   },
   {
    "duration": 263,
    "start_time": "2022-04-27T15:25:51.284Z"
   },
   {
    "duration": 247,
    "start_time": "2022-04-27T15:25:51.819Z"
   },
   {
    "duration": 41,
    "start_time": "2022-04-27T15:25:52.543Z"
   },
   {
    "duration": 326,
    "start_time": "2022-04-27T15:25:52.724Z"
   },
   {
    "duration": 360,
    "start_time": "2022-04-27T15:25:53.082Z"
   },
   {
    "duration": 343,
    "start_time": "2022-04-27T15:25:53.445Z"
   },
   {
    "duration": 540,
    "start_time": "2022-04-27T15:25:53.794Z"
   },
   {
    "duration": 17,
    "start_time": "2022-04-27T15:25:54.337Z"
   },
   {
    "duration": 12,
    "start_time": "2022-04-27T15:29:37.969Z"
   },
   {
    "duration": 63,
    "start_time": "2022-04-27T15:29:39.116Z"
   },
   {
    "duration": 270,
    "start_time": "2022-04-27T15:29:42.461Z"
   },
   {
    "duration": 257,
    "start_time": "2022-04-27T15:29:46.875Z"
   },
   {
    "duration": 40,
    "start_time": "2022-04-27T15:29:47.930Z"
   },
   {
    "duration": 551,
    "start_time": "2022-04-27T15:29:48.099Z"
   },
   {
    "duration": 366,
    "start_time": "2022-04-27T15:29:48.653Z"
   },
   {
    "duration": 342,
    "start_time": "2022-04-27T15:29:49.022Z"
   },
   {
    "duration": 445,
    "start_time": "2022-04-27T15:29:49.367Z"
   },
   {
    "duration": 19,
    "start_time": "2022-04-27T15:29:49.815Z"
   },
   {
    "duration": 494,
    "start_time": "2022-04-28T09:24:53.378Z"
   },
   {
    "duration": 23,
    "start_time": "2022-04-28T09:24:53.874Z"
   },
   {
    "duration": 86,
    "start_time": "2022-04-28T09:24:53.898Z"
   },
   {
    "duration": 69,
    "start_time": "2022-04-28T09:24:53.986Z"
   },
   {
    "duration": 23,
    "start_time": "2022-04-28T09:24:54.056Z"
   },
   {
    "duration": 67,
    "start_time": "2022-04-28T09:24:54.081Z"
   },
   {
    "duration": 20,
    "start_time": "2022-04-28T09:24:54.149Z"
   },
   {
    "duration": 9,
    "start_time": "2022-04-28T09:24:54.171Z"
   },
   {
    "duration": 52,
    "start_time": "2022-04-28T09:24:54.182Z"
   },
   {
    "duration": 238,
    "start_time": "2022-04-28T09:24:54.237Z"
   },
   {
    "duration": 245,
    "start_time": "2022-04-28T09:24:54.477Z"
   },
   {
    "duration": 639,
    "start_time": "2022-04-28T09:24:54.724Z"
   },
   {
    "duration": 16,
    "start_time": "2022-04-28T09:24:55.365Z"
   },
   {
    "duration": 26,
    "start_time": "2022-04-28T09:24:55.382Z"
   },
   {
    "duration": 789,
    "start_time": "2022-04-28T09:24:55.409Z"
   },
   {
    "duration": 243,
    "start_time": "2022-04-28T09:24:56.200Z"
   },
   {
    "duration": 197,
    "start_time": "2022-04-28T09:24:56.445Z"
   },
   {
    "duration": 291,
    "start_time": "2022-04-28T09:24:56.644Z"
   },
   {
    "duration": 303,
    "start_time": "2022-04-28T09:24:56.936Z"
   },
   {
    "duration": 12,
    "start_time": "2022-04-28T09:24:57.240Z"
   },
   {
    "duration": 15,
    "start_time": "2022-04-28T09:24:57.253Z"
   },
   {
    "duration": 10,
    "start_time": "2022-04-28T09:24:57.269Z"
   },
   {
    "duration": 8,
    "start_time": "2022-04-28T09:24:57.281Z"
   },
   {
    "duration": 155,
    "start_time": "2022-04-28T09:24:57.290Z"
   },
   {
    "duration": 188,
    "start_time": "2022-04-28T09:24:57.447Z"
   },
   {
    "duration": 274,
    "start_time": "2022-04-28T09:24:57.636Z"
   },
   {
    "duration": 184,
    "start_time": "2022-04-28T09:24:57.912Z"
   },
   {
    "duration": 39,
    "start_time": "2022-04-28T09:24:58.099Z"
   },
   {
    "duration": 174,
    "start_time": "2022-04-28T09:24:58.140Z"
   },
   {
    "duration": 208,
    "start_time": "2022-04-28T09:24:58.315Z"
   },
   {
    "duration": 166,
    "start_time": "2022-04-28T09:24:58.524Z"
   },
   {
    "duration": 8,
    "start_time": "2022-04-28T09:24:58.692Z"
   },
   {
    "duration": 64,
    "start_time": "2022-04-28T09:24:58.702Z"
   },
   {
    "duration": 200,
    "start_time": "2022-04-28T09:24:58.768Z"
   },
   {
    "duration": 177,
    "start_time": "2022-04-28T09:24:58.970Z"
   },
   {
    "duration": 26,
    "start_time": "2022-04-28T09:24:59.149Z"
   },
   {
    "duration": 236,
    "start_time": "2022-04-28T09:24:59.176Z"
   },
   {
    "duration": 236,
    "start_time": "2022-04-28T09:24:59.414Z"
   },
   {
    "duration": 282,
    "start_time": "2022-04-28T09:24:59.651Z"
   },
   {
    "duration": 274,
    "start_time": "2022-04-28T09:24:59.935Z"
   },
   {
    "duration": 23,
    "start_time": "2022-04-28T09:25:00.211Z"
   },
   {
    "duration": 455,
    "start_time": "2022-04-30T08:39:20.619Z"
   },
   {
    "duration": 18,
    "start_time": "2022-04-30T08:39:24.846Z"
   },
   {
    "duration": 53,
    "start_time": "2022-04-30T08:39:25.065Z"
   },
   {
    "duration": 42,
    "start_time": "2022-04-30T08:39:26.548Z"
   },
   {
    "duration": 22,
    "start_time": "2022-04-30T08:39:29.083Z"
   },
   {
    "duration": 39,
    "start_time": "2022-04-30T08:39:29.950Z"
   },
   {
    "duration": 19,
    "start_time": "2022-04-30T08:39:30.995Z"
   },
   {
    "duration": 5,
    "start_time": "2022-04-30T08:39:31.878Z"
   },
   {
    "duration": 27,
    "start_time": "2022-04-30T08:39:32.617Z"
   },
   {
    "duration": 216,
    "start_time": "2022-04-30T08:39:35.277Z"
   },
   {
    "duration": 249,
    "start_time": "2022-04-30T08:39:35.589Z"
   },
   {
    "duration": 597,
    "start_time": "2022-04-30T08:39:35.840Z"
   },
   {
    "duration": 15,
    "start_time": "2022-04-30T08:39:36.438Z"
   },
   {
    "duration": 23,
    "start_time": "2022-04-30T08:39:36.777Z"
   },
   {
    "duration": 689,
    "start_time": "2022-04-30T08:39:38.505Z"
   },
   {
    "duration": 178,
    "start_time": "2022-04-30T08:39:39.422Z"
   },
   {
    "duration": 143,
    "start_time": "2022-04-30T08:39:39.745Z"
   },
   {
    "duration": 222,
    "start_time": "2022-04-30T08:39:40.634Z"
   },
   {
    "duration": 378,
    "start_time": "2022-04-30T08:39:41.948Z"
   },
   {
    "duration": 10,
    "start_time": "2022-04-30T08:39:42.929Z"
   },
   {
    "duration": 11,
    "start_time": "2022-04-30T08:39:43.546Z"
   },
   {
    "duration": 8,
    "start_time": "2022-04-30T08:39:43.824Z"
   },
   {
    "duration": 9,
    "start_time": "2022-04-30T08:39:44.095Z"
   },
   {
    "duration": 105,
    "start_time": "2022-04-30T08:39:44.336Z"
   },
   {
    "duration": 149,
    "start_time": "2022-04-30T08:39:44.559Z"
   },
   {
    "duration": 209,
    "start_time": "2022-04-30T08:39:44.744Z"
   },
   {
    "duration": 163,
    "start_time": "2022-04-30T08:39:45.428Z"
   },
   {
    "duration": 24,
    "start_time": "2022-04-30T08:39:45.640Z"
   },
   {
    "duration": 130,
    "start_time": "2022-04-30T08:39:45.672Z"
   },
   {
    "duration": 171,
    "start_time": "2022-04-30T08:39:45.804Z"
   },
   {
    "duration": 147,
    "start_time": "2022-04-30T08:39:45.976Z"
   },
   {
    "duration": 8,
    "start_time": "2022-04-30T08:39:46.125Z"
   },
   {
    "duration": 39,
    "start_time": "2022-04-30T08:39:46.135Z"
   },
   {
    "duration": 180,
    "start_time": "2022-04-30T08:39:46.176Z"
   },
   {
    "duration": 153,
    "start_time": "2022-04-30T08:39:46.358Z"
   },
   {
    "duration": 22,
    "start_time": "2022-04-30T08:39:46.513Z"
   },
   {
    "duration": 165,
    "start_time": "2022-04-30T08:39:46.586Z"
   },
   {
    "duration": 171,
    "start_time": "2022-04-30T08:39:47.022Z"
   },
   {
    "duration": 217,
    "start_time": "2022-04-30T08:39:47.413Z"
   },
   {
    "duration": 228,
    "start_time": "2022-04-30T08:39:47.792Z"
   },
   {
    "duration": 10,
    "start_time": "2022-04-30T08:39:48.125Z"
   },
   {
    "duration": 139,
    "start_time": "2022-04-30T08:40:35.552Z"
   },
   {
    "duration": 151,
    "start_time": "2022-04-30T08:41:03.275Z"
   },
   {
    "duration": 132,
    "start_time": "2022-04-30T08:41:15.152Z"
   },
   {
    "duration": 128,
    "start_time": "2022-04-30T08:44:52.509Z"
   },
   {
    "duration": 133,
    "start_time": "2022-04-30T08:45:15.239Z"
   },
   {
    "duration": 131,
    "start_time": "2022-04-30T08:45:24.892Z"
   },
   {
    "duration": 196,
    "start_time": "2022-04-30T08:45:36.242Z"
   },
   {
    "duration": 123,
    "start_time": "2022-04-30T08:45:39.254Z"
   },
   {
    "duration": 136,
    "start_time": "2022-04-30T08:45:42.127Z"
   },
   {
    "duration": 200,
    "start_time": "2022-04-30T08:45:49.869Z"
   },
   {
    "duration": 228,
    "start_time": "2022-04-30T08:45:57.987Z"
   },
   {
    "duration": 236,
    "start_time": "2022-04-30T08:46:05.068Z"
   },
   {
    "duration": 402,
    "start_time": "2022-04-30T08:46:15.054Z"
   },
   {
    "duration": 859,
    "start_time": "2022-04-30T14:57:56.776Z"
   },
   {
    "duration": 29,
    "start_time": "2022-04-30T14:57:57.638Z"
   },
   {
    "duration": 162,
    "start_time": "2022-04-30T14:57:57.669Z"
   },
   {
    "duration": 134,
    "start_time": "2022-04-30T14:57:57.836Z"
   },
   {
    "duration": 35,
    "start_time": "2022-04-30T14:57:57.973Z"
   },
   {
    "duration": 124,
    "start_time": "2022-04-30T14:57:58.010Z"
   },
   {
    "duration": 43,
    "start_time": "2022-04-30T14:57:58.137Z"
   },
   {
    "duration": 14,
    "start_time": "2022-04-30T14:57:58.183Z"
   },
   {
    "duration": 62,
    "start_time": "2022-04-30T14:57:58.226Z"
   },
   {
    "duration": 480,
    "start_time": "2022-04-30T14:57:58.293Z"
   },
   {
    "duration": 388,
    "start_time": "2022-04-30T14:57:58.775Z"
   },
   {
    "duration": 1075,
    "start_time": "2022-04-30T14:57:59.166Z"
   },
   {
    "duration": 22,
    "start_time": "2022-04-30T14:58:00.243Z"
   },
   {
    "duration": 59,
    "start_time": "2022-04-30T14:58:00.268Z"
   },
   {
    "duration": 1496,
    "start_time": "2022-04-30T14:58:00.329Z"
   },
   {
    "duration": 308,
    "start_time": "2022-04-30T14:58:01.827Z"
   },
   {
    "duration": 343,
    "start_time": "2022-04-30T14:58:02.137Z"
   },
   {
    "duration": 535,
    "start_time": "2022-04-30T14:58:02.483Z"
   },
   {
    "duration": 724,
    "start_time": "2022-04-30T14:58:03.020Z"
   },
   {
    "duration": 15,
    "start_time": "2022-04-30T14:58:03.747Z"
   },
   {
    "duration": 58,
    "start_time": "2022-04-30T14:58:03.765Z"
   },
   {
    "duration": 58,
    "start_time": "2022-04-30T14:58:03.826Z"
   },
   {
    "duration": 28,
    "start_time": "2022-04-30T14:58:03.888Z"
   },
   {
    "duration": 204,
    "start_time": "2022-04-30T14:58:03.918Z"
   },
   {
    "duration": 226,
    "start_time": "2022-04-30T14:58:04.124Z"
   },
   {
    "duration": 682,
    "start_time": "2022-04-30T14:58:04.352Z"
   },
   {
    "duration": 571,
    "start_time": "2022-04-30T14:58:05.037Z"
   },
   {
    "duration": 58,
    "start_time": "2022-04-30T14:58:05.617Z"
   },
   {
    "duration": 416,
    "start_time": "2022-04-30T14:58:05.678Z"
   },
   {
    "duration": 312,
    "start_time": "2022-04-30T14:58:06.097Z"
   },
   {
    "duration": 275,
    "start_time": "2022-04-30T14:58:06.412Z"
   },
   {
    "duration": 12,
    "start_time": "2022-04-30T14:58:06.689Z"
   },
   {
    "duration": 87,
    "start_time": "2022-04-30T14:58:06.704Z"
   },
   {
    "duration": 356,
    "start_time": "2022-04-30T14:58:06.794Z"
   },
   {
    "duration": 285,
    "start_time": "2022-04-30T14:58:07.152Z"
   },
   {
    "duration": 42,
    "start_time": "2022-04-30T14:58:07.441Z"
   },
   {
    "duration": 567,
    "start_time": "2022-04-30T14:58:07.486Z"
   },
   {
    "duration": 598,
    "start_time": "2022-04-30T14:58:08.057Z"
   },
   {
    "duration": 340,
    "start_time": "2022-04-30T14:58:08.658Z"
   },
   {
    "duration": 435,
    "start_time": "2022-04-30T14:58:09.001Z"
   },
   {
    "duration": 17,
    "start_time": "2022-04-30T14:58:09.439Z"
   },
   {
    "duration": 71,
    "start_time": "2022-05-14T13:23:14.219Z"
   },
   {
    "duration": 624,
    "start_time": "2022-05-14T13:23:23.079Z"
   },
   {
    "duration": 29,
    "start_time": "2022-05-14T13:23:23.706Z"
   },
   {
    "duration": 102,
    "start_time": "2022-05-14T13:23:23.737Z"
   },
   {
    "duration": 79,
    "start_time": "2022-05-14T13:23:23.843Z"
   },
   {
    "duration": 28,
    "start_time": "2022-05-14T13:23:23.923Z"
   },
   {
    "duration": 86,
    "start_time": "2022-05-14T13:23:23.954Z"
   },
   {
    "duration": 27,
    "start_time": "2022-05-14T13:23:24.043Z"
   },
   {
    "duration": 6,
    "start_time": "2022-05-14T13:23:24.093Z"
   },
   {
    "duration": 43,
    "start_time": "2022-05-14T13:23:24.102Z"
   },
   {
    "duration": 372,
    "start_time": "2022-05-14T13:23:24.149Z"
   },
   {
    "duration": 349,
    "start_time": "2022-05-14T13:23:24.523Z"
   },
   {
    "duration": 919,
    "start_time": "2022-05-14T13:23:24.874Z"
   },
   {
    "duration": 23,
    "start_time": "2022-05-14T13:23:25.795Z"
   },
   {
    "duration": 35,
    "start_time": "2022-05-14T13:23:25.820Z"
   },
   {
    "duration": 647,
    "start_time": "2022-05-14T13:23:25.857Z"
   },
   {
    "duration": 271,
    "start_time": "2022-05-14T13:23:26.506Z"
   },
   {
    "duration": 288,
    "start_time": "2022-05-14T13:23:26.779Z"
   },
   {
    "duration": 428,
    "start_time": "2022-05-14T13:23:27.069Z"
   },
   {
    "duration": 431,
    "start_time": "2022-05-14T13:23:27.500Z"
   },
   {
    "duration": 14,
    "start_time": "2022-05-14T13:23:27.933Z"
   },
   {
    "duration": 15,
    "start_time": "2022-05-14T13:23:27.950Z"
   },
   {
    "duration": 36,
    "start_time": "2022-05-14T13:23:27.967Z"
   },
   {
    "duration": 13,
    "start_time": "2022-05-14T13:23:28.005Z"
   },
   {
    "duration": 211,
    "start_time": "2022-05-14T13:23:28.020Z"
   },
   {
    "duration": 169,
    "start_time": "2022-05-14T13:23:28.233Z"
   },
   {
    "duration": 411,
    "start_time": "2022-05-14T13:23:28.404Z"
   },
   {
    "duration": 347,
    "start_time": "2022-05-14T13:23:28.818Z"
   },
   {
    "duration": 47,
    "start_time": "2022-05-14T13:23:29.170Z"
   },
   {
    "duration": 242,
    "start_time": "2022-05-14T13:23:29.219Z"
   },
   {
    "duration": 298,
    "start_time": "2022-05-14T13:23:29.463Z"
   },
   {
    "duration": 277,
    "start_time": "2022-05-14T13:23:29.763Z"
   },
   {
    "duration": 12,
    "start_time": "2022-05-14T13:23:30.042Z"
   },
   {
    "duration": 85,
    "start_time": "2022-05-14T13:23:30.056Z"
   },
   {
    "duration": 281,
    "start_time": "2022-05-14T13:23:30.144Z"
   },
   {
    "duration": 254,
    "start_time": "2022-05-14T13:23:30.427Z"
   },
   {
    "duration": 43,
    "start_time": "2022-05-14T13:23:30.683Z"
   },
   {
    "duration": 333,
    "start_time": "2022-05-14T13:23:30.728Z"
   },
   {
    "duration": 357,
    "start_time": "2022-05-14T13:23:31.063Z"
   },
   {
    "duration": 317,
    "start_time": "2022-05-14T13:23:31.423Z"
   },
   {
    "duration": 409,
    "start_time": "2022-05-14T13:23:31.743Z"
   },
   {
    "duration": 18,
    "start_time": "2022-05-14T13:23:32.154Z"
   }
  ],
  "kernelspec": {
   "display_name": "Python 3",
   "language": "python",
   "name": "python3"
  },
  "language_info": {
   "codemirror_mode": {
    "name": "ipython",
    "version": 3
   },
   "file_extension": ".py",
   "mimetype": "text/x-python",
   "name": "python",
   "nbconvert_exporter": "python",
   "pygments_lexer": "ipython3",
   "version": "3.8.8"
  },
  "toc": {
   "base_numbering": 1,
   "nav_menu": {},
   "number_sections": true,
   "sideBar": true,
   "skip_h1_title": true,
   "title_cell": "Содержание",
   "title_sidebar": "Contents",
   "toc_cell": true,
   "toc_position": {
    "height": "calc(100% - 180px)",
    "left": "10px",
    "top": "150px",
    "width": "347.391px"
   },
   "toc_section_display": true,
   "toc_window_display": true
  }
 },
 "nbformat": 4,
 "nbformat_minor": 4
}
